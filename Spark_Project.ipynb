{
  "nbformat": 4,
  "nbformat_minor": 0,
  "metadata": {
    "colab": {
      "name": " Spark_Final_Project.ipynb",
      "provenance": [],
      "collapsed_sections": []
    },
    "kernelspec": {
      "name": "python3",
      "display_name": "Python 3"
    },
    "language_info": {
      "name": "python"
    }
  },
  "cells": [
    {
      "cell_type": "code",
      "metadata": {
        "colab": {
          "base_uri": "https://localhost:8080/"
        },
        "id": "02IYg6_F6yoY",
        "outputId": "b4aae6fd-bb7c-4816-990e-b7c429ede658"
      },
      "source": [
        "!pip install pyspark"
      ],
      "execution_count": 94,
      "outputs": [
        {
          "output_type": "stream",
          "text": [
            "Requirement already satisfied: pyspark in /usr/local/lib/python3.7/dist-packages (3.1.2)\n",
            "Requirement already satisfied: py4j==0.10.9 in /usr/local/lib/python3.7/dist-packages (from pyspark) (0.10.9)\n"
          ],
          "name": "stdout"
        }
      ]
    },
    {
      "cell_type": "code",
      "metadata": {
        "id": "HllrTE826-Iz"
      },
      "source": [
        "import pandas as pd \n",
        "import numpy as np\n",
        "import pyspark"
      ],
      "execution_count": 95,
      "outputs": []
    },
    {
      "cell_type": "code",
      "metadata": {
        "id": "3t7AY4lLNSNA"
      },
      "source": [
        "from pyspark.sql import SparkSession"
      ],
      "execution_count": 96,
      "outputs": []
    },
    {
      "cell_type": "code",
      "metadata": {
        "id": "DfBQuZyYNdO6"
      },
      "source": [
        "spark = SparkSession.builder.appName(\"CarPrediction\").getOrCreate()"
      ],
      "execution_count": 97,
      "outputs": []
    },
    {
      "cell_type": "code",
      "metadata": {
        "id": "SsaRSaVtNnLJ"
      },
      "source": [
        "# Using read.csv to read the dataset\n",
        "df = spark.read.csv(\"./audi.csv\", inferSchema=True, header=True)"
      ],
      "execution_count": 98,
      "outputs": []
    },
    {
      "cell_type": "code",
      "metadata": {
        "colab": {
          "base_uri": "https://localhost:8080/"
        },
        "id": "_ItI28MfiSmv",
        "outputId": "121b29e1-9e46-437e-99ca-2fef8e2b4c61"
      },
      "source": [
        "# Checks if there are any null values in the column\n",
        "for col in df.columns:\n",
        "  print(col, \"\\t\", \"with null values: \", df.filter(df[col].isNull()).count())"
      ],
      "execution_count": 99,
      "outputs": [
        {
          "output_type": "stream",
          "text": [
            "model \t with null values:  0\n",
            "year \t with null values:  0\n",
            "price \t with null values:  0\n",
            "transmission \t with null values:  0\n",
            "mileage \t with null values:  0\n",
            "fuelType \t with null values:  0\n",
            "tax \t with null values:  0\n",
            "mpg \t with null values:  0\n",
            "engineSize \t with null values:  0\n"
          ],
          "name": "stdout"
        }
      ]
    },
    {
      "cell_type": "code",
      "metadata": {
        "colab": {
          "base_uri": "https://localhost:8080/"
        },
        "id": "UaAqG-Dnir89",
        "outputId": "16bfdd04-f46e-4661-9382-04e1e8c0c2a5"
      },
      "source": [
        "# Checks if there are any values with '?'\n",
        "for col in df.columns:\n",
        "  print(col, \"\\t\", \"with ? values: \", df.filter(df[col]==\"?\").count())"
      ],
      "execution_count": 100,
      "outputs": [
        {
          "output_type": "stream",
          "text": [
            "model \t with ? values:  0\n",
            "year \t with ? values:  0\n",
            "price \t with ? values:  0\n",
            "transmission \t with ? values:  0\n",
            "mileage \t with ? values:  0\n",
            "fuelType \t with ? values:  0\n",
            "tax \t with ? values:  0\n",
            "mpg \t with ? values:  0\n",
            "engineSize \t with ? values:  0\n"
          ],
          "name": "stdout"
        }
      ]
    },
    {
      "cell_type": "code",
      "metadata": {
        "colab": {
          "base_uri": "https://localhost:8080/"
        },
        "id": "o8tKID0PNwJ6",
        "outputId": "ccf95165-5cce-44b5-a394-bdd43e8f7734"
      },
      "source": [
        "df.printSchema() # outputs the schema types which are automatically determined by spark"
      ],
      "execution_count": 101,
      "outputs": [
        {
          "output_type": "stream",
          "text": [
            "root\n",
            " |-- model: string (nullable = true)\n",
            " |-- year: integer (nullable = true)\n",
            " |-- price: integer (nullable = true)\n",
            " |-- transmission: string (nullable = true)\n",
            " |-- mileage: integer (nullable = true)\n",
            " |-- fuelType: string (nullable = true)\n",
            " |-- tax: integer (nullable = true)\n",
            " |-- mpg: double (nullable = true)\n",
            " |-- engineSize: double (nullable = true)\n",
            "\n"
          ],
          "name": "stdout"
        }
      ]
    },
    {
      "cell_type": "code",
      "metadata": {
        "colab": {
          "base_uri": "https://localhost:8080/"
        },
        "id": "5UpekeFCP0wp",
        "outputId": "5b2cb670-e84b-49ae-d1b0-bf0311684ba0"
      },
      "source": [
        "df.show()"
      ],
      "execution_count": 102,
      "outputs": [
        {
          "output_type": "stream",
          "text": [
            "+-----+----+-----+------------+-------+--------+---+----+----------+\n",
            "|model|year|price|transmission|mileage|fuelType|tax| mpg|engineSize|\n",
            "+-----+----+-----+------------+-------+--------+---+----+----------+\n",
            "|   A1|2017|12500|      Manual|  15735|  Petrol|150|55.4|       1.4|\n",
            "|   A6|2016|16500|   Automatic|  36203|  Diesel| 20|64.2|       2.0|\n",
            "|   A1|2016|11000|      Manual|  29946|  Petrol| 30|55.4|       1.4|\n",
            "|   A4|2017|16800|   Automatic|  25952|  Diesel|145|67.3|       2.0|\n",
            "|   A3|2019|17300|      Manual|   1998|  Petrol|145|49.6|       1.0|\n",
            "|   A1|2016|13900|   Automatic|  32260|  Petrol| 30|58.9|       1.4|\n",
            "|   A6|2016|13250|   Automatic|  76788|  Diesel| 30|61.4|       2.0|\n",
            "|   A4|2016|11750|      Manual|  75185|  Diesel| 20|70.6|       2.0|\n",
            "|   A3|2015|10200|      Manual|  46112|  Petrol| 20|60.1|       1.4|\n",
            "|   A1|2016|12000|      Manual|  22451|  Petrol| 30|55.4|       1.4|\n",
            "|   A3|2017|16100|      Manual|  28955|  Petrol|145|58.9|       1.4|\n",
            "|   A6|2016|16500|   Automatic|  52198|  Diesel|125|57.6|       2.0|\n",
            "|   Q3|2016|17000|      Manual|  44915|  Diesel|145|52.3|       2.0|\n",
            "|   A3|2017|16400|      Manual|  21695|  Petrol| 30|58.9|       1.4|\n",
            "|   A6|2015|15400|      Manual|  47348|  Diesel| 30|61.4|       2.0|\n",
            "|   A3|2017|14500|   Automatic|  26156|  Petrol|145|58.9|       1.4|\n",
            "|   Q3|2016|15700|   Automatic|  28396|  Diesel|145|53.3|       2.0|\n",
            "|   A3|2014|13900|   Automatic|  30516|  Petrol| 30|56.5|       1.4|\n",
            "|   Q5|2016|19000|   Automatic|  37652|  Diesel|200|47.1|       2.0|\n",
            "|   Q3|2014|17000|      Manual|  34110|  Petrol|145|47.9|       1.4|\n",
            "+-----+----+-----+------------+-------+--------+---+----+----------+\n",
            "only showing top 20 rows\n",
            "\n"
          ],
          "name": "stdout"
        }
      ]
    },
    {
      "cell_type": "code",
      "metadata": {
        "colab": {
          "base_uri": "https://localhost:8080/"
        },
        "id": "2O3pk7YZP-Jw",
        "outputId": "46bb84a3-fdc0-4e2c-9caf-6a8eb61f3cb3"
      },
      "source": [
        "# Checking the columns of the dataframe \n",
        "df.columns"
      ],
      "execution_count": 103,
      "outputs": [
        {
          "output_type": "execute_result",
          "data": {
            "text/plain": [
              "['model',\n",
              " 'year',\n",
              " 'price',\n",
              " 'transmission',\n",
              " 'mileage',\n",
              " 'fuelType',\n",
              " 'tax',\n",
              " 'mpg',\n",
              " 'engineSize']"
            ]
          },
          "metadata": {
            "tags": []
          },
          "execution_count": 103
        }
      ]
    },
    {
      "cell_type": "code",
      "metadata": {
        "colab": {
          "base_uri": "https://localhost:8080/"
        },
        "id": "Pu9Yb1frQBDv",
        "outputId": "9607548f-19cd-423d-a4cf-6f931766ee64"
      },
      "source": [
        "# Checking the type of each column in the dataframe\n",
        "df.describe()"
      ],
      "execution_count": 104,
      "outputs": [
        {
          "output_type": "execute_result",
          "data": {
            "text/plain": [
              "DataFrame[summary: string, model: string, year: string, price: string, transmission: string, mileage: string, fuelType: string, tax: string, mpg: string, engineSize: string]"
            ]
          },
          "metadata": {
            "tags": []
          },
          "execution_count": 104
        }
      ]
    },
    {
      "cell_type": "code",
      "metadata": {
        "colab": {
          "base_uri": "https://localhost:8080/"
        },
        "id": "Ghz_hBaaN-lY",
        "outputId": "39fb7bec-4d5e-451a-87fb-b9697337c11b"
      },
      "source": [
        "# taking the cars whose price is less than 15000 and the transmission is Manual\n",
        "df.filter((df[\"transmission\"] == \"Manual\") & (df[\"price\"]<15000)).show()"
      ],
      "execution_count": 105,
      "outputs": [
        {
          "output_type": "stream",
          "text": [
            "+-----+----+-----+------------+-------+--------+---+----+----------+\n",
            "|model|year|price|transmission|mileage|fuelType|tax| mpg|engineSize|\n",
            "+-----+----+-----+------------+-------+--------+---+----+----------+\n",
            "|   A1|2017|12500|      Manual|  15735|  Petrol|150|55.4|       1.4|\n",
            "|   A1|2016|11000|      Manual|  29946|  Petrol| 30|55.4|       1.4|\n",
            "|   A4|2016|11750|      Manual|  75185|  Diesel| 20|70.6|       2.0|\n",
            "|   A3|2015|10200|      Manual|  46112|  Petrol| 20|60.1|       1.4|\n",
            "|   A1|2016|12000|      Manual|  22451|  Petrol| 30|55.4|       1.4|\n",
            "|   A6|2015|14000|      Manual|  61176|  Diesel| 30|62.8|       2.0|\n",
            "|   A1|2017|10800|      Manual|  31447|  Petrol|145|67.3|       1.0|\n",
            "|   A3|2015|11300|      Manual|  75619|  Diesel| 20|68.9|       2.0|\n",
            "|   A4|2016|12750|      Manual|  52561|  Diesel|  0|74.3|       2.0|\n",
            "|   A1|2014|11000|      Manual|  34315|  Petrol|125|53.3|       1.4|\n",
            "|   A3|2016|10200|      Manual|  66369|  Diesel|  0|83.1|       1.6|\n",
            "|   A1|2013| 7000|      Manual|  76269|  Diesel|  0|74.3|       1.6|\n",
            "|   A3|2016|10600|      Manual|  37840|  Diesel| 20|70.6|       1.6|\n",
            "|   Q3|2017|14000|      Manual|  67161|  Petrol|150|51.4|       1.4|\n",
            "|   A4|2016|10200|      Manual|  97440|  Diesel| 20|70.6|       2.0|\n",
            "|   A1|2017|11700|      Manual|  19268|  Petrol|150|67.3|       1.0|\n",
            "|   A1|2016|10800|      Manual|  18181|  Petrol|  0|67.3|       1.0|\n",
            "|   A3|2016|12500|      Manual|  19494|  Diesel| 30|67.3|       2.0|\n",
            "|   A3|2017|13100|      Manual|  25965|  Diesel|145|65.7|       2.0|\n",
            "|   A3|2016| 8300|      Manual|  88215|  Diesel| 20|68.9|       2.0|\n",
            "+-----+----+-----+------------+-------+--------+---+----+----------+\n",
            "only showing top 20 rows\n",
            "\n"
          ],
          "name": "stdout"
        }
      ]
    },
    {
      "cell_type": "code",
      "metadata": {
        "colab": {
          "base_uri": "https://localhost:8080/"
        },
        "id": "ij3TlG5LOkh6",
        "outputId": "5c94ccd9-c3a1-44e1-bed4-b47dd0087f9a"
      },
      "source": [
        "df.groupBy(\"model\")"
      ],
      "execution_count": 106,
      "outputs": [
        {
          "output_type": "execute_result",
          "data": {
            "text/plain": [
              "<pyspark.sql.group.GroupedData at 0x7f9a98282ed0>"
            ]
          },
          "metadata": {
            "tags": []
          },
          "execution_count": 106
        }
      ]
    },
    {
      "cell_type": "code",
      "metadata": {
        "colab": {
          "base_uri": "https://localhost:8080/"
        },
        "id": "gdj9ipZ6Qhp4",
        "outputId": "0c17c58c-dbb4-45be-a86a-343480adbd79"
      },
      "source": [
        "df.groupBy(\"model\").count().show()"
      ],
      "execution_count": 107,
      "outputs": [
        {
          "output_type": "stream",
          "text": [
            "+-----+-----+\n",
            "|model|count|\n",
            "+-----+-----+\n",
            "|   A7|  122|\n",
            "|  SQ7|    8|\n",
            "|   A4| 1381|\n",
            "|  RS3|   33|\n",
            "|   S3|   18|\n",
            "|  RS5|   29|\n",
            "|  RS6|   39|\n",
            "|  SQ5|   16|\n",
            "|   S4|   12|\n",
            "|   Q8|   69|\n",
            "|  RS4|   31|\n",
            "|   A1| 1347|\n",
            "|   A3| 1929|\n",
            "|   Q2|  822|\n",
            "|  RS7|    1|\n",
            "|   Q7|  397|\n",
            "|   Q3| 1417|\n",
            "|   R8|   28|\n",
            "|   S5|    3|\n",
            "|   Q5|  877|\n",
            "+-----+-----+\n",
            "only showing top 20 rows\n",
            "\n"
          ],
          "name": "stdout"
        }
      ]
    },
    {
      "cell_type": "code",
      "metadata": {
        "colab": {
          "base_uri": "https://localhost:8080/"
        },
        "id": "xT4RWG7vQmJ8",
        "outputId": "8a62ec04-0919-44c7-8216-6588840d696f"
      },
      "source": [
        "df.groupby(\"model\").mean()[[\"model\",\"avg(price)\"]].show()"
      ],
      "execution_count": 108,
      "outputs": [
        {
          "output_type": "stream",
          "text": [
            "+-----+------------------+\n",
            "|model|        avg(price)|\n",
            "+-----+------------------+\n",
            "|   A7|28865.516393442624|\n",
            "|  SQ7|           49269.0|\n",
            "|   A4|20255.450398262128|\n",
            "|  RS3| 34050.51515151515|\n",
            "|   S3|20379.444444444445|\n",
            "|  RS5|51265.206896551725|\n",
            "|  RS6|  55963.8717948718|\n",
            "|  SQ5|        31415.8125|\n",
            "|   S4|31248.083333333332|\n",
            "|   Q8|60115.014492753624|\n",
            "|  RS4|  50151.6129032258|\n",
            "|   A1|14327.750556792873|\n",
            "|   A3|17408.522032141005|\n",
            "|   Q2|22516.975669099756|\n",
            "|  RS7|           33490.0|\n",
            "|   Q7|44788.319899244336|\n",
            "|   Q3| 22999.26182074806|\n",
            "|   R8| 97652.21428571429|\n",
            "|   S5|           15980.0|\n",
            "|   Q5|30445.688711516534|\n",
            "+-----+------------------+\n",
            "only showing top 20 rows\n",
            "\n"
          ],
          "name": "stdout"
        }
      ]
    },
    {
      "cell_type": "code",
      "metadata": {
        "colab": {
          "base_uri": "https://localhost:8080/"
        },
        "id": "JAzzu4xydTJB",
        "outputId": "ca65fd7e-d792-4f11-e73f-1cee4e7c288e"
      },
      "source": [
        "df.groupBy(\"year\").mean()[[\"year\",\"avg(tax)\"]].show()"
      ],
      "execution_count": 109,
      "outputs": [
        {
          "output_type": "stream",
          "text": [
            "+----+------------------+\n",
            "|year|          avg(tax)|\n",
            "+----+------------------+\n",
            "|2003|255.83333333333334|\n",
            "|2007|          340.9375|\n",
            "|2018| 146.1747685185185|\n",
            "|2015| 98.95395395395396|\n",
            "|2006| 371.1111111111111|\n",
            "|2013|125.97938144329896|\n",
            "|1997|             265.0|\n",
            "|2014| 129.0268456375839|\n",
            "|2019|  145.573975602127|\n",
            "|2004|             319.0|\n",
            "|1998|             265.0|\n",
            "|2020| 145.5377094972067|\n",
            "|2012|132.11764705882354|\n",
            "|2009|223.47826086956522|\n",
            "|2016| 85.06364562118127|\n",
            "|2005| 269.2857142857143|\n",
            "|2010|            176.25|\n",
            "|2011| 160.2127659574468|\n",
            "|2008|252.38095238095238|\n",
            "|2017|123.17054263565892|\n",
            "+----+------------------+\n",
            "only showing top 20 rows\n",
            "\n"
          ],
          "name": "stdout"
        }
      ]
    },
    {
      "cell_type": "code",
      "metadata": {
        "colab": {
          "base_uri": "https://localhost:8080/"
        },
        "id": "yJMQ1IeXdzex",
        "outputId": "b6476f66-0cb6-4d9e-b453-1672d64df1c1"
      },
      "source": [
        "df.take(10)"
      ],
      "execution_count": 110,
      "outputs": [
        {
          "output_type": "execute_result",
          "data": {
            "text/plain": [
              "[Row(model=' A1', year=2017, price=12500, transmission='Manual', mileage=15735, fuelType='Petrol', tax=150, mpg=55.4, engineSize=1.4),\n",
              " Row(model=' A6', year=2016, price=16500, transmission='Automatic', mileage=36203, fuelType='Diesel', tax=20, mpg=64.2, engineSize=2.0),\n",
              " Row(model=' A1', year=2016, price=11000, transmission='Manual', mileage=29946, fuelType='Petrol', tax=30, mpg=55.4, engineSize=1.4),\n",
              " Row(model=' A4', year=2017, price=16800, transmission='Automatic', mileage=25952, fuelType='Diesel', tax=145, mpg=67.3, engineSize=2.0),\n",
              " Row(model=' A3', year=2019, price=17300, transmission='Manual', mileage=1998, fuelType='Petrol', tax=145, mpg=49.6, engineSize=1.0),\n",
              " Row(model=' A1', year=2016, price=13900, transmission='Automatic', mileage=32260, fuelType='Petrol', tax=30, mpg=58.9, engineSize=1.4),\n",
              " Row(model=' A6', year=2016, price=13250, transmission='Automatic', mileage=76788, fuelType='Diesel', tax=30, mpg=61.4, engineSize=2.0),\n",
              " Row(model=' A4', year=2016, price=11750, transmission='Manual', mileage=75185, fuelType='Diesel', tax=20, mpg=70.6, engineSize=2.0),\n",
              " Row(model=' A3', year=2015, price=10200, transmission='Manual', mileage=46112, fuelType='Petrol', tax=20, mpg=60.1, engineSize=1.4),\n",
              " Row(model=' A1', year=2016, price=12000, transmission='Manual', mileage=22451, fuelType='Petrol', tax=30, mpg=55.4, engineSize=1.4)]"
            ]
          },
          "metadata": {
            "tags": []
          },
          "execution_count": 110
        }
      ]
    },
    {
      "cell_type": "markdown",
      "metadata": {
        "id": "Q7eS41QJkOU6"
      },
      "source": [
        "**Performing Data Visualization**\n",
        "* Here we perform data visualization using matplotlib plotting functions"
      ]
    },
    {
      "cell_type": "code",
      "metadata": {
        "id": "xZ7UPYuWkgyS"
      },
      "source": [
        "# Performing data visualization\n",
        "import matplotlib.pyplot as plt\n"
      ],
      "execution_count": 111,
      "outputs": []
    },
    {
      "cell_type": "code",
      "metadata": {
        "colab": {
          "base_uri": "https://localhost:8080/",
          "height": 282
        },
        "id": "eVDYH9X7hwgt",
        "outputId": "0a53304b-f3a5-40ae-8f38-13b602bb3648"
      },
      "source": [
        "# Relationship between year and price\n",
        "x1 = df.toPandas()[\"year\"].values.tolist()\n",
        "y1 = df.toPandas()[\"price\"].values.tolist()\n",
        "plt.scatter(x1,y1)\n"
      ],
      "execution_count": 112,
      "outputs": [
        {
          "output_type": "execute_result",
          "data": {
            "text/plain": [
              "<matplotlib.collections.PathCollection at 0x7f9a9823a7d0>"
            ]
          },
          "metadata": {
            "tags": []
          },
          "execution_count": 112
        },
        {
          "output_type": "display_data",
          "data": {
            "image/png": "[encoded data removed]",
            "text/plain": [
              "<Figure size 432x288 with 1 Axes>"
            ]
          },
          "metadata": {
            "tags": [],
            "needs_background": "light"
          }
        }
      ]
    },
    {
      "cell_type": "code",
      "metadata": {
        "colab": {
          "base_uri": "https://localhost:8080/",
          "height": 296
        },
        "id": "Pueg0a5blOpf",
        "outputId": "45da899f-a804-481d-b229-da31255aebca"
      },
      "source": [
        "# Relationship between model and price\n",
        "x2 = df.toPandas()[\"model\"].values.tolist()\n",
        "y2 = df.toPandas()[\"price\"].values.tolist()\n",
        "ax = plt.subplot()\n",
        "ax.barh(x2,y2)\n",
        "ax.set_xlabel(\"Price\")\n",
        "ax.set_ylabel(\"Model\")"
      ],
      "execution_count": 113,
      "outputs": [
        {
          "output_type": "execute_result",
          "data": {
            "text/plain": [
              "Text(0, 0.5, 'Model')"
            ]
          },
          "metadata": {
            "tags": []
          },
          "execution_count": 113
        },
        {
          "output_type": "display_data",
          "data": {
            "image/png": "[encoded data removed]",
            "text/plain": [
              "<Figure size 432x288 with 1 Axes>"
            ]
          },
          "metadata": {
            "tags": [],
            "needs_background": "light"
          }
        }
      ]
    },
    {
      "cell_type": "code",
      "metadata": {
        "colab": {
          "base_uri": "https://localhost:8080/",
          "height": 530
        },
        "id": "0K9JnUI0m5eu",
        "outputId": "6e518963-a436-47de-b8f7-2a2b1f56f544"
      },
      "source": [
        "# Relationship between mileage and price\n",
        "y3 = df.toPandas()[\"mileage\"]\n",
        "plt.figure(figsize=(10,8))\n",
        "plt.bar(x2,y3)\n",
        "plt.xlabel(\"Model\")\n",
        "plt.ylabel(\"Mileage\")\n",
        "plt.title(label=\"Mileage Per Model\")"
      ],
      "execution_count": 114,
      "outputs": [
        {
          "output_type": "execute_result",
          "data": {
            "text/plain": [
              "Text(0.5, 1.0, 'Mileage Per Model')"
            ]
          },
          "metadata": {
            "tags": []
          },
          "execution_count": 114
        },
        {
          "output_type": "display_data",
          "data": {
            "image/png": "[encoded data removed]",
            "text/plain": [
              "<Figure size 720x576 with 1 Axes>"
            ]
          },
          "metadata": {
            "tags": [],
            "needs_background": "light"
          }
        }
      ]
    },
    {
      "cell_type": "code",
      "metadata": {
        "colab": {
          "base_uri": "https://localhost:8080/",
          "height": 367
        },
        "id": "DyIjB6mvz2iY",
        "outputId": "5ee9070b-fe50-4c0d-da1a-5bf78abcdd3e"
      },
      "source": [
        "# Relationship between price and engine size\n",
        "x12 = df.toPandas()[\"mileage\"].values.tolist()\n",
        "y12 = df.toPandas()[\"price\"].values.tolist()\n",
        "plt.figure(figsize=(5,5))\n",
        "plt.scatter(x12,y12)\n",
        "plt.xlabel(\"Mileage of Car\")\n",
        "plt.ylabel(\"Price of Car\")\n",
        "plt.title(\"Relationship between price and mileage\")\n"
      ],
      "execution_count": 115,
      "outputs": [
        {
          "output_type": "execute_result",
          "data": {
            "text/plain": [
              "Text(0.5, 1.0, 'Relationship between price and mileage')"
            ]
          },
          "metadata": {
            "tags": []
          },
          "execution_count": 115
        },
        {
          "output_type": "display_data",
          "data": {
            "image/png": "[encoded data removed]",
            "text/plain": [
              "<Figure size 360x360 with 1 Axes>"
            ]
          },
          "metadata": {
            "tags": [],
            "needs_background": "light"
          }
        }
      ]
    },
    {
      "cell_type": "code",
      "metadata": {
        "colab": {
          "base_uri": "https://localhost:8080/",
          "height": 530
        },
        "id": "Ke_otgoHn0s_",
        "outputId": "a1c9df81-ff62-4f22-aaca-76f108765a23"
      },
      "source": [
        "# Relationship between model and average tax per model\n",
        "x4 = df.groupBy(\"model\").mean()[[\"model\",\"avg(tax)\"]].toPandas()[\"model\"].values.tolist()\n",
        "y4 = df.groupBy(\"model\").mean()[[\"model\",\"avg(tax)\"]].toPandas()[\"avg(tax)\"].values.tolist()\n",
        "plt.figure(figsize=(10,8))\n",
        "plt.bar(x4, y4)\n",
        "plt.xlabel(\"model\")\n",
        "plt.ylabel(\"Average Tax\")\n",
        "plt.title(\"Average Tax Per Model\")\n"
      ],
      "execution_count": 116,
      "outputs": [
        {
          "output_type": "execute_result",
          "data": {
            "text/plain": [
              "Text(0.5, 1.0, 'Average Tax Per Model')"
            ]
          },
          "metadata": {
            "tags": []
          },
          "execution_count": 116
        },
        {
          "output_type": "display_data",
          "data": {
            "image/png": "[encoded data removed]",
            "text/plain": [
              "<Figure size 720x576 with 1 Axes>"
            ]
          },
          "metadata": {
            "tags": [],
            "needs_background": "light"
          }
        }
      ]
    },
    {
      "cell_type": "code",
      "metadata": {
        "colab": {
          "base_uri": "https://localhost:8080/",
          "height": 367
        },
        "id": "HIxkggYmqpUb",
        "outputId": "7f2a787a-a01e-4cbc-f349-466de3df7298"
      },
      "source": [
        "# Classifying the cars based on transmission\n",
        "x5 = df.groupBy(\"transmission\").count().toPandas()[\"transmission\"].values.tolist()\n",
        "y5 = df.groupBy(\"transmission\").count().toPandas()[\"count\"].values.tolist()\n",
        "plt.figure(figsize=(5,5))\n",
        "plt.bar(x5, y5)\n",
        "plt.xlabel(\"Transmission Type\")\n",
        "plt.ylabel(\"Count\")\n",
        "plt.title(\"Types of Transmission\")\n"
      ],
      "execution_count": 117,
      "outputs": [
        {
          "output_type": "execute_result",
          "data": {
            "text/plain": [
              "Text(0.5, 1.0, 'Types of Transmission')"
            ]
          },
          "metadata": {
            "tags": []
          },
          "execution_count": 117
        },
        {
          "output_type": "display_data",
          "data": {
            "image/png": "[encoded data removed]",
            "text/plain": [
              "<Figure size 360x360 with 1 Axes>"
            ]
          },
          "metadata": {
            "tags": [],
            "needs_background": "light"
          }
        }
      ]
    },
    {
      "cell_type": "code",
      "metadata": {
        "colab": {
          "base_uri": "https://localhost:8080/",
          "height": 367
        },
        "id": "Iq18465vsFmr",
        "outputId": "4e983c03-e4ba-43b2-8aa6-c62cb55c1e49"
      },
      "source": [
        "# Relationship between transmission and price\n",
        "x6 = df.groupBy(\"transmission\").count().toPandas()[\"transmission\"].values.tolist()\n",
        "y6 = df.groupBy(\"transmission\").mean().toPandas()[\"avg(price)\"].values.tolist()\n",
        "plt.figure(figsize=(5,5))\n",
        "plt.bar(x6, y6)\n",
        "plt.xlabel(\"Transmission Type\")\n",
        "plt.ylabel(\"Average Price\")\n",
        "plt.title(\"Average Price of each transmission\")\n"
      ],
      "execution_count": 118,
      "outputs": [
        {
          "output_type": "execute_result",
          "data": {
            "text/plain": [
              "Text(0.5, 1.0, 'Average Price of each transmission')"
            ]
          },
          "metadata": {
            "tags": []
          },
          "execution_count": 118
        },
        {
          "output_type": "display_data",
          "data": {
            "image/png": "[encoded data removed]",
            "text/plain": [
              "<Figure size 360x360 with 1 Axes>"
            ]
          },
          "metadata": {
            "tags": [],
            "needs_background": "light"
          }
        }
      ]
    },
    {
      "cell_type": "code",
      "metadata": {
        "colab": {
          "base_uri": "https://localhost:8080/",
          "height": 367
        },
        "id": "RGhjGj33uu0x",
        "outputId": "601d7907-8453-494f-e4b5-f06d912c059d"
      },
      "source": [
        "# Classification of cars based on their fuel type\n",
        "x7 = df.groupBy(\"fuelType\").count().toPandas()[\"fuelType\"].values.tolist()\n",
        "y7 = df.groupBy(\"fuelType\").count().toPandas()[\"count\"].values.tolist()\n",
        "plt.figure(figsize=(5,5))\n",
        "plt.bar(x7, y7)\n",
        "plt.xlabel(\"Fuel Type\")\n",
        "plt.ylabel(\"Number of Cars\")\n",
        "plt.title(\"Number of car available based on Fuel Type\")\n"
      ],
      "execution_count": 119,
      "outputs": [
        {
          "output_type": "execute_result",
          "data": {
            "text/plain": [
              "Text(0.5, 1.0, 'Number of car available based on Fuel Type')"
            ]
          },
          "metadata": {
            "tags": []
          },
          "execution_count": 119
        },
        {
          "output_type": "display_data",
          "data": {
            "image/png": "[encoded data removed]",
            "text/plain": [
              "<Figure size 360x360 with 1 Axes>"
            ]
          },
          "metadata": {
            "tags": [],
            "needs_background": "light"
          }
        }
      ]
    },
    {
      "cell_type": "code",
      "metadata": {
        "colab": {
          "base_uri": "https://localhost:8080/",
          "height": 367
        },
        "id": "7pssH1vIvMKz",
        "outputId": "2d26dfb5-1628-47bc-bfb4-d2f564cc35ef"
      },
      "source": [
        "# Relationship between fuel type and price\n",
        "x8 = df.groupBy(\"fuelType\").count().toPandas()[\"fuelType\"].values.tolist()\n",
        "y8 = df.groupBy(\"fuelType\").mean().toPandas()[\"avg(price)\"].values.tolist()\n",
        "plt.figure(figsize=(5,5))\n",
        "plt.bar(x8, y8)\n",
        "plt.xlabel(\"Fuel Type\")\n",
        "plt.ylabel(\"Average Price of Cars\")\n",
        "plt.title(\"Average Price of car based on Fuel Type\")\n"
      ],
      "execution_count": 120,
      "outputs": [
        {
          "output_type": "execute_result",
          "data": {
            "text/plain": [
              "Text(0.5, 1.0, 'Average Price of car based on Fuel Type')"
            ]
          },
          "metadata": {
            "tags": []
          },
          "execution_count": 120
        },
        {
          "output_type": "display_data",
          "data": {
            "image/png": "[encoded data removed]",
            "text/plain": [
              "<Figure size 360x360 with 1 Axes>"
            ]
          },
          "metadata": {
            "tags": [],
            "needs_background": "light"
          }
        }
      ]
    },
    {
      "cell_type": "code",
      "metadata": {
        "colab": {
          "base_uri": "https://localhost:8080/",
          "height": 367
        },
        "id": "uUEQm7VuvfB1",
        "outputId": "579021a3-0e3f-48c1-d9c4-05eac86e5243"
      },
      "source": [
        "# Relationship between price and engine size\n",
        "x9 = df.groupBy(\"engineSize\").mean().toPandas()[\"engineSize\"].values.tolist()\n",
        "y9 = df.groupBy(\"engineSize\").mean().toPandas()[\"avg(price)\"].values.tolist()\n",
        "plt.figure(figsize=(5,5))\n",
        "plt.bar(x9,y9,width=0.05)\n",
        "plt.xlabel(\"Engine Size\")\n",
        "plt.ylabel(\"Average Price\")\n",
        "plt.title(\"Average Price based on Size of Engine\")\n"
      ],
      "execution_count": 121,
      "outputs": [
        {
          "output_type": "execute_result",
          "data": {
            "text/plain": [
              "Text(0.5, 1.0, 'Average Price based on Size of Engine')"
            ]
          },
          "metadata": {
            "tags": []
          },
          "execution_count": 121
        },
        {
          "output_type": "display_data",
          "data": {
            "image/png": "[encoded data removed]",
            "text/plain": [
              "<Figure size 360x360 with 1 Axes>"
            ]
          },
          "metadata": {
            "tags": [],
            "needs_background": "light"
          }
        }
      ]
    },
    {
      "cell_type": "code",
      "metadata": {
        "colab": {
          "base_uri": "https://localhost:8080/",
          "height": 638
        },
        "id": "B2o-tJ_zy2pC",
        "outputId": "3e80406f-fdab-4a19-b994-349e68704502"
      },
      "source": [
        "# Relationship between price and miles per gallon (mpg)\n",
        "x10 = df.groupBy(\"mpg\").mean().toPandas()[\"mpg\"].values.tolist()\n",
        "y10 = df.groupBy(\"mpg\").mean().toPandas()[\"avg(price)\"].values.tolist()\n",
        "plt.figure(figsize=(10,10))\n",
        "plt.bar(x10,y10,width=0.5)\n",
        "plt.xlabel(\"Mpg(Miles-Per-Gallon)\")\n",
        "plt.ylabel(\"Average Price\")\n",
        "plt.title(\"Average Price based on MPG(Miles-Per-Gallon)\")\n"
      ],
      "execution_count": 122,
      "outputs": [
        {
          "output_type": "execute_result",
          "data": {
            "text/plain": [
              "Text(0.5, 1.0, 'Average Price based on MPG(Miles-Per-Gallon)')"
            ]
          },
          "metadata": {
            "tags": []
          },
          "execution_count": 122
        },
        {
          "output_type": "display_data",
          "data": {
            "image/png": "[encoded data removed]",
            "text/plain": [
              "<Figure size 720x720 with 1 Axes>"
            ]
          },
          "metadata": {
            "tags": [],
            "needs_background": "light"
          }
        }
      ]
    },
    {
      "cell_type": "markdown",
      "metadata": {
        "id": "lbx5H-eOUWq_"
      },
      "source": [
        "**Feature Engineering(DataTransformation)**\n",
        "* Performing oneHotEncoder"
      ]
    },
    {
      "cell_type": "code",
      "metadata": {
        "id": "3DVUixgR0uVU"
      },
      "source": [
        "# converting categorical data in model column using the one hot encoder \n",
        "from pyspark.ml.feature import (VectorAssembler, VectorIndexer,OneHotEncoder,StringIndexer)"
      ],
      "execution_count": 123,
      "outputs": []
    },
    {
      "cell_type": "code",
      "metadata": {
        "id": "fpYaaW9P2hF1"
      },
      "source": [
        "# Performing one-hot-encoding on model column\n",
        "model_indexer = StringIndexer(inputCol='model', outputCol='modelIndex')\n",
        "model_encoder = OneHotEncoder(inputCol='modelIndex', outputCol='modelVector')"
      ],
      "execution_count": 124,
      "outputs": []
    },
    {
      "cell_type": "code",
      "metadata": {
        "id": "Nb0lp6Kl3C53"
      },
      "source": [
        "# Performing one-hot-encoding on transmission column\n",
        "transmission_indexer = StringIndexer(inputCol='transmission', outputCol='transmissionIndex')\n",
        "transmission_encoder = OneHotEncoder(inputCol='transmissionIndex', outputCol='transmissionVec')"
      ],
      "execution_count": 125,
      "outputs": []
    },
    {
      "cell_type": "code",
      "metadata": {
        "id": "IjXflf-p3hRX"
      },
      "source": [
        "# Performing one-hot-encoding on fuel column\n",
        "fuel_type_indexer = StringIndexer(inputCol='fuelType', outputCol='fuelTypeIndex')\n",
        "fuel_type_encoder = OneHotEncoder(inputCol='fuelTypeIndex', outputCol='fuelTypeVector')"
      ],
      "execution_count": 126,
      "outputs": []
    },
    {
      "cell_type": "code",
      "metadata": {
        "id": "oBXfrHok3wGV"
      },
      "source": [
        "# Performing VectorAssembling on all columns except our target column\n",
        "assembler = VectorAssembler(inputCols=['modelVector', 'year', 'transmissionVec'\n",
        "            ,'mileage','fuelTypeVector','tax','mpg','engineSize'],outputCol='features')"
      ],
      "execution_count": 127,
      "outputs": []
    },
    {
      "cell_type": "markdown",
      "metadata": {
        "id": "CTEssUfWUrhL"
      },
      "source": [
        "**Building Regression Model**\n",
        "* Using multiple regression algorithms"
      ]
    },
    {
      "cell_type": "code",
      "metadata": {
        "id": "Yylx5UHR4WZe"
      },
      "source": [
        "from pyspark.ml.regression import LinearRegression"
      ],
      "execution_count": 128,
      "outputs": []
    },
    {
      "cell_type": "code",
      "metadata": {
        "id": "QHShckxV4jRH"
      },
      "source": [
        "linear_reg = LinearRegression(featuresCol='features',labelCol='price', maxIter=10)"
      ],
      "execution_count": 129,
      "outputs": []
    },
    {
      "cell_type": "code",
      "metadata": {
        "id": "CCePxoXNI4gp"
      },
      "source": [
        "from pyspark.ml.regression import LinearRegressionModel\n",
        "linear_reg_model = LinearRegressionModel()"
      ],
      "execution_count": 130,
      "outputs": []
    },
    {
      "cell_type": "code",
      "metadata": {
        "id": "yCFpGjBg7s6u"
      },
      "source": [
        "# Splitting the dataset into train and test \n",
        "trainData, testData = df.randomSplit([0.7,.03])"
      ],
      "execution_count": 131,
      "outputs": []
    },
    {
      "cell_type": "code",
      "metadata": {
        "id": "lWpyDoXfA53Z"
      },
      "source": [
        "# Creating the pipeline for the model with linear regression algorithm\n",
        "from pyspark.ml import Pipeline\n",
        "pipeline = Pipeline(stages=[model_indexer,transmission_indexer,fuel_type_indexer,\n",
        "                            model_encoder,transmission_encoder,fuel_type_encoder,\n",
        "                            assembler,linear_reg])\n"
      ],
      "execution_count": 132,
      "outputs": []
    },
    {
      "cell_type": "code",
      "metadata": {
        "id": "5_f_eD1gBmtS"
      },
      "source": [
        "linear_fit = pipeline.fit(trainData)"
      ],
      "execution_count": 133,
      "outputs": []
    },
    {
      "cell_type": "code",
      "metadata": {
        "id": "SS42c0lPCZcS"
      },
      "source": [
        "results = linear_fit.transform(testData)\n",
        "# linear_fit.predict(testData)"
      ],
      "execution_count": 134,
      "outputs": []
    },
    {
      "cell_type": "code",
      "metadata": {
        "id": "-tlBPeu6DhWw",
        "colab": {
          "base_uri": "https://localhost:8080/"
        },
        "outputId": "1f77f080-2b47-4e89-85ee-f255a831bcc1"
      },
      "source": [
        "results.head(5)"
      ],
      "execution_count": 135,
      "outputs": [
        {
          "output_type": "execute_result",
          "data": {
            "text/plain": [
              "[Row(model=' A1', year=2013, price=8998, transmission='Manual', mileage=53529, fuelType='Petrol', tax=125, mpg=52.3, engineSize=1.4, modelIndex=3.0, transmissionIndex=0.0, fuelTypeIndex=1.0, modelVector=SparseVector(25, {3: 1.0}), transmissionVec=SparseVector(2, {0: 1.0}), fuelTypeVector=SparseVector(2, {1: 1.0}), features=SparseVector(34, {3: 1.0, 25: 2013.0, 26: 1.0, 28: 53529.0, 30: 1.0, 31: 125.0, 32: 52.3, 33: 1.4}), prediction=5496.4514918597415),\n",
              " Row(model=' A1', year=2014, price=8275, transmission='Manual', mileage=60000, fuelType='Petrol', tax=125, mpg=52.3, engineSize=1.4, modelIndex=3.0, transmissionIndex=0.0, fuelTypeIndex=1.0, modelVector=SparseVector(25, {3: 1.0}), transmissionVec=SparseVector(2, {0: 1.0}), fuelTypeVector=SparseVector(2, {1: 1.0}), features=SparseVector(34, {3: 1.0, 25: 2014.0, 26: 1.0, 28: 60000.0, 30: 1.0, 31: 125.0, 32: 52.3, 33: 1.4}), prediction=6810.087066974025),\n",
              " Row(model=' A1', year=2014, price=9782, transmission='Manual', mileage=27260, fuelType='Petrol', tax=125, mpg=52.3, engineSize=1.4, modelIndex=3.0, transmissionIndex=0.0, fuelTypeIndex=1.0, modelVector=SparseVector(25, {3: 1.0}), transmissionVec=SparseVector(2, {0: 1.0}), fuelTypeVector=SparseVector(2, {1: 1.0}), features=SparseVector(34, {3: 1.0, 25: 2014.0, 26: 1.0, 28: 27260.0, 30: 1.0, 31: 125.0, 32: 52.3, 33: 1.4}), prediction=9382.19734661933),\n",
              " Row(model=' A1', year=2014, price=10700, transmission='Manual', mileage=35700, fuelType='Petrol', tax=125, mpg=52.3, engineSize=1.4, modelIndex=3.0, transmissionIndex=0.0, fuelTypeIndex=1.0, modelVector=SparseVector(25, {3: 1.0}), transmissionVec=SparseVector(2, {0: 1.0}), fuelTypeVector=SparseVector(2, {1: 1.0}), features=SparseVector(34, {3: 1.0, 25: 2014.0, 26: 1.0, 28: 35700.0, 30: 1.0, 31: 125.0, 32: 52.3, 33: 1.4}), prediction=8719.136541481595),\n",
              " Row(model=' A1', year=2014, price=13750, transmission='Semi-Auto', mileage=24900, fuelType='Petrol', tax=20, mpg=60.1, engineSize=1.4, modelIndex=3.0, transmissionIndex=1.0, fuelTypeIndex=1.0, modelVector=SparseVector(25, {3: 1.0}), transmissionVec=SparseVector(2, {1: 1.0}), fuelTypeVector=SparseVector(2, {1: 1.0}), features=SparseVector(34, {3: 1.0, 25: 2014.0, 27: 1.0, 28: 24900.0, 30: 1.0, 31: 20.0, 32: 60.1, 33: 1.4}), prediction=11986.4677021862)]"
            ]
          },
          "metadata": {
            "tags": []
          },
          "execution_count": 135
        }
      ]
    },
    {
      "cell_type": "code",
      "metadata": {
        "id": "oXtvo1pADsgg"
      },
      "source": [
        "# Checking out a binaryclassification evalutor\n",
        "from pyspark.ml.evaluation import BinaryClassificationEvaluator\n",
        "my_eval = BinaryClassificationEvaluator(rawPredictionCol='prediction',\n",
        "                                       labelCol='price')"
      ],
      "execution_count": 136,
      "outputs": []
    },
    {
      "cell_type": "code",
      "metadata": {
        "id": "2PR1FV4lExXS",
        "colab": {
          "base_uri": "https://localhost:8080/"
        },
        "outputId": "ae3dad31-2e38-4de6-f820-396ba4b74b94"
      },
      "source": [
        "results.select('price','prediction').show()"
      ],
      "execution_count": 137,
      "outputs": [
        {
          "output_type": "stream",
          "text": [
            "+-----+------------------+\n",
            "|price|        prediction|\n",
            "+-----+------------------+\n",
            "| 8998|5496.4514918597415|\n",
            "| 8275| 6810.087066974025|\n",
            "| 9782|  9382.19734661933|\n",
            "|10700| 8719.136541481595|\n",
            "|13750|  11986.4677021862|\n",
            "| 9490|12180.394068222027|\n",
            "|10899| 8898.238263068255|\n",
            "|10965|11560.456331003457|\n",
            "|11217| 10947.51789478492|\n",
            "|11750|11513.319306941703|\n",
            "| 8500| 6419.935937521048|\n",
            "|10999|11020.805904565845|\n",
            "|11599|10923.456541713327|\n",
            "|11899|15718.025691186544|\n",
            "|11990|10164.241810647305|\n",
            "|12046|11793.648867157754|\n",
            "|13888|15469.385198357515|\n",
            "|14671| 15302.59197063744|\n",
            "|10175|12494.381706498563|\n",
            "|11175|15931.483124695718|\n",
            "+-----+------------------+\n",
            "only showing top 20 rows\n",
            "\n"
          ],
          "name": "stdout"
        }
      ]
    },
    {
      "cell_type": "code",
      "metadata": {
        "colab": {
          "base_uri": "https://localhost:8080/",
          "height": 609
        },
        "id": "gf2XXhBDBQq2",
        "outputId": "0af4d9cf-9154-4a43-9c0b-b535ca2b52c3"
      },
      "source": [
        "# Plotting the predicted value by linear regression against the original value\n",
        "graph_res = results.select('price', 'prediction').toPandas()\n",
        "x13 = graph_res[\"price\"]\n",
        "x14 = graph_res[\"prediction\"]\n",
        "plt.figure(figsize=(10,10))\n",
        "plt.scatter(np.arange(0,len(x13),1),x13,label='Original Price')\n",
        "plt.scatter(np.arange(0,len(x14),1),x14, label=\"Predicted Price\")\n",
        "plt.legend(loc=\"upper left\")"
      ],
      "execution_count": 138,
      "outputs": [
        {
          "output_type": "execute_result",
          "data": {
            "text/plain": [
              "<matplotlib.legend.Legend at 0x7f9a9e4d00d0>"
            ]
          },
          "metadata": {
            "tags": []
          },
          "execution_count": 138
        },
        {
          "output_type": "display_data",
          "data": {
            "image/png": "[encoded data removed]",
            "text/plain": [
              "<Figure size 720x720 with 1 Axes>"
            ]
          },
          "metadata": {
            "tags": [],
            "needs_background": "light"
          }
        }
      ]
    },
    {
      "cell_type": "code",
      "metadata": {
        "id": "GcCDA2vQF2cM",
        "colab": {
          "base_uri": "https://localhost:8080/"
        },
        "outputId": "7b1a5959-daa7-4c25-8cd3-c5b11af4adeb"
      },
      "source": [
        "my_eval.evaluate(results)"
      ],
      "execution_count": 139,
      "outputs": [
        {
          "output_type": "execute_result",
          "data": {
            "text/plain": [
              "1.0"
            ]
          },
          "metadata": {
            "tags": []
          },
          "execution_count": 139
        }
      ]
    },
    {
      "cell_type": "code",
      "metadata": {
        "id": "uHiYHi5DEyxA"
      },
      "source": [
        "# Analyzing the performance of linear regression using RegressionEvaluator\n",
        "from pyspark.ml.evaluation import RegressionEvaluator\n",
        "my_ref_eval = RegressionEvaluator(predictionCol='prediction',labelCol='price')"
      ],
      "execution_count": 140,
      "outputs": []
    },
    {
      "cell_type": "code",
      "metadata": {
        "id": "VzXYQzrWFAVQ",
        "colab": {
          "base_uri": "https://localhost:8080/"
        },
        "outputId": "4b2e240c-fe31-4678-d965-dd372b228bf8"
      },
      "source": [
        "my_ref_eval.evaluate(results)"
      ],
      "execution_count": 141,
      "outputs": [
        {
          "output_type": "execute_result",
          "data": {
            "text/plain": [
              "4374.016810939943"
            ]
          },
          "metadata": {
            "tags": []
          },
          "execution_count": 141
        }
      ]
    },
    {
      "cell_type": "code",
      "metadata": {
        "id": "1IWaOA8eFOSa",
        "colab": {
          "base_uri": "https://localhost:8080/"
        },
        "outputId": "dd0f5d8a-92a5-4050-c6cf-3b252a9ee752"
      },
      "source": [
        "# R2 score\n",
        "my_ref_eval.evaluate(results, {my_ref_eval.metricName:\"r2\"})"
      ],
      "execution_count": 142,
      "outputs": [
        {
          "output_type": "execute_result",
          "data": {
            "text/plain": [
              "0.8519464196799553"
            ]
          },
          "metadata": {
            "tags": []
          },
          "execution_count": 142
        }
      ]
    },
    {
      "cell_type": "code",
      "metadata": {
        "id": "iiXUGqj4Gu2j",
        "colab": {
          "base_uri": "https://localhost:8080/"
        },
        "outputId": "b42d9f3f-7749-4de2-8fc7-7b7cd43ef21c"
      },
      "source": [
        "# RMSE score\n",
        "my_ref_eval.evaluate(results, {my_ref_eval.metricName:\"rmse\"})"
      ],
      "execution_count": 143,
      "outputs": [
        {
          "output_type": "execute_result",
          "data": {
            "text/plain": [
              "4374.016810939943"
            ]
          },
          "metadata": {
            "tags": []
          },
          "execution_count": 143
        }
      ]
    },
    {
      "cell_type": "code",
      "metadata": {
        "id": "R5__yJMcGx--",
        "colab": {
          "base_uri": "https://localhost:8080/"
        },
        "outputId": "01243ea1-68ca-444c-fb8a-57f6b850695b"
      },
      "source": [
        "# MSE value\n",
        "my_ref_eval.evaluate(results, {my_ref_eval.metricName:\"mse\"})"
      ],
      "execution_count": 144,
      "outputs": [
        {
          "output_type": "execute_result",
          "data": {
            "text/plain": [
              "19132023.06238523"
            ]
          },
          "metadata": {
            "tags": []
          },
          "execution_count": 144
        }
      ]
    },
    {
      "cell_type": "markdown",
      "metadata": {
        "id": "C2ltb1-jPhMM"
      },
      "source": [
        "**RandomForest Regression Algorithm**"
      ]
    },
    {
      "cell_type": "code",
      "metadata": {
        "id": "Y2XXUWyVHP8T"
      },
      "source": [
        "from pyspark.ml.regression import RandomForestRegressor"
      ],
      "execution_count": 145,
      "outputs": []
    },
    {
      "cell_type": "code",
      "metadata": {
        "id": "xQ94wZ52Pnjx"
      },
      "source": [
        "randomforest = RandomForestRegressor(featuresCol='features',labelCol='price')"
      ],
      "execution_count": 146,
      "outputs": []
    },
    {
      "cell_type": "code",
      "metadata": {
        "id": "WnfJo2IhQJwM"
      },
      "source": [
        "# Creating a new pipeline with random Forest Regressor \n",
        "from pyspark.ml import Pipeline\n",
        "pipeline1 = Pipeline(stages=[model_indexer,transmission_indexer,fuel_type_indexer,\n",
        "                            model_encoder,transmission_encoder,fuel_type_encoder,\n",
        "                            assembler,randomforest])\n",
        "# df.na.drop()"
      ],
      "execution_count": 147,
      "outputs": []
    },
    {
      "cell_type": "code",
      "metadata": {
        "id": "iAe444j6QL4M"
      },
      "source": [
        "# Executing the random forest regression algorithm\n",
        "randomforestresult = pipeline1.fit(trainData)\n",
        "randomFResult = randomforestresult.transform(testData)"
      ],
      "execution_count": 148,
      "outputs": []
    },
    {
      "cell_type": "code",
      "metadata": {
        "id": "qu3Bo1cIQTMX",
        "colab": {
          "base_uri": "https://localhost:8080/"
        },
        "outputId": "e7926949-b45b-4d88-fd60-2ca1c37973f1"
      },
      "source": [
        "print(randomFResult.head(5))"
      ],
      "execution_count": 149,
      "outputs": [
        {
          "output_type": "stream",
          "text": [
            "[Row(model=' A1', year=2013, price=8998, transmission='Manual', mileage=53529, fuelType='Petrol', tax=125, mpg=52.3, engineSize=1.4, modelIndex=3.0, transmissionIndex=0.0, fuelTypeIndex=1.0, modelVector=SparseVector(25, {3: 1.0}), transmissionVec=SparseVector(2, {0: 1.0}), fuelTypeVector=SparseVector(2, {1: 1.0}), features=SparseVector(34, {3: 1.0, 25: 2013.0, 26: 1.0, 28: 53529.0, 30: 1.0, 31: 125.0, 32: 52.3, 33: 1.4}), prediction=10947.494916604892), Row(model=' A1', year=2014, price=8275, transmission='Manual', mileage=60000, fuelType='Petrol', tax=125, mpg=52.3, engineSize=1.4, modelIndex=3.0, transmissionIndex=0.0, fuelTypeIndex=1.0, modelVector=SparseVector(25, {3: 1.0}), transmissionVec=SparseVector(2, {0: 1.0}), fuelTypeVector=SparseVector(2, {1: 1.0}), features=SparseVector(34, {3: 1.0, 25: 2014.0, 26: 1.0, 28: 60000.0, 30: 1.0, 31: 125.0, 32: 52.3, 33: 1.4}), prediction=10992.640203337249), Row(model=' A1', year=2014, price=9782, transmission='Manual', mileage=27260, fuelType='Petrol', tax=125, mpg=52.3, engineSize=1.4, modelIndex=3.0, transmissionIndex=0.0, fuelTypeIndex=1.0, modelVector=SparseVector(25, {3: 1.0}), transmissionVec=SparseVector(2, {0: 1.0}), fuelTypeVector=SparseVector(2, {1: 1.0}), features=SparseVector(34, {3: 1.0, 25: 2014.0, 26: 1.0, 28: 27260.0, 30: 1.0, 31: 125.0, 32: 52.3, 33: 1.4}), prediction=11975.60873331797), Row(model=' A1', year=2014, price=10700, transmission='Manual', mileage=35700, fuelType='Petrol', tax=125, mpg=52.3, engineSize=1.4, modelIndex=3.0, transmissionIndex=0.0, fuelTypeIndex=1.0, modelVector=SparseVector(25, {3: 1.0}), transmissionVec=SparseVector(2, {0: 1.0}), fuelTypeVector=SparseVector(2, {1: 1.0}), features=SparseVector(34, {3: 1.0, 25: 2014.0, 26: 1.0, 28: 35700.0, 30: 1.0, 31: 125.0, 32: 52.3, 33: 1.4}), prediction=11975.60873331797), Row(model=' A1', year=2014, price=13750, transmission='Semi-Auto', mileage=24900, fuelType='Petrol', tax=20, mpg=60.1, engineSize=1.4, modelIndex=3.0, transmissionIndex=1.0, fuelTypeIndex=1.0, modelVector=SparseVector(25, {3: 1.0}), transmissionVec=SparseVector(2, {1: 1.0}), fuelTypeVector=SparseVector(2, {1: 1.0}), features=SparseVector(34, {3: 1.0, 25: 2014.0, 27: 1.0, 28: 24900.0, 30: 1.0, 31: 20.0, 32: 60.1, 33: 1.4}), prediction=13390.067640510655)]\n"
          ],
          "name": "stdout"
        }
      ]
    },
    {
      "cell_type": "code",
      "metadata": {
        "colab": {
          "base_uri": "https://localhost:8080/",
          "height": 623
        },
        "id": "iKwv-YrjD42H",
        "outputId": "efe96662-ac57-4795-91e4-240827979983"
      },
      "source": [
        "# Plotting the predicted price value by random forest regressor against the original price\n",
        "graph_random = randomFResult.select('price', 'prediction').toPandas()\n",
        "x15 = graph_random[\"price\"]\n",
        "x16 = graph_random[\"prediction\"]\n",
        "plt.figure(figsize=(10,10))\n",
        "plt.scatter(np.arange(0,len(x15),1),x15,marker='x',label='Original Price')\n",
        "plt.xlabel(\"Index/Each entry in the dataset\")\n",
        "plt.ylabel(\"Price\")\n",
        "plt.scatter(np.arange(0,len(x16),1),x16,marker='s', label=\"Predicted Price\")\n",
        "plt.legend(loc=\"upper left\")"
      ],
      "execution_count": 150,
      "outputs": [
        {
          "output_type": "execute_result",
          "data": {
            "text/plain": [
              "<matplotlib.legend.Legend at 0x7f9a8844f8d0>"
            ]
          },
          "metadata": {
            "tags": []
          },
          "execution_count": 150
        },
        {
          "output_type": "display_data",
          "data": {
            "image/png": "[encoded data removed]",
            "text/plain": [
              "<Figure size 720x720 with 1 Axes>"
            ]
          },
          "metadata": {
            "tags": [],
            "needs_background": "light"
          }
        }
      ]
    },
    {
      "cell_type": "code",
      "metadata": {
        "id": "yd08zPHjRw_d"
      },
      "source": [
        "# Evaluating the performance of the random forest regressor using RegressionEvaluator \n",
        "from pyspark.ml.evaluation import RegressionEvaluator\n",
        "my_ref_eval1 = RegressionEvaluator(predictionCol='prediction',labelCol='price')"
      ],
      "execution_count": 151,
      "outputs": []
    },
    {
      "cell_type": "code",
      "metadata": {
        "id": "ha4Npi8ZQlJy",
        "colab": {
          "base_uri": "https://localhost:8080/"
        },
        "outputId": "fa686284-c3d2-4297-b06f-0bfe86cde56b"
      },
      "source": [
        "my_ref_eval1.evaluate(randomFResult)"
      ],
      "execution_count": 152,
      "outputs": [
        {
          "output_type": "execute_result",
          "data": {
            "text/plain": [
              "4154.7035968499285"
            ]
          },
          "metadata": {
            "tags": []
          },
          "execution_count": 152
        }
      ]
    },
    {
      "cell_type": "code",
      "metadata": {
        "id": "FdcSt1asQoNZ",
        "colab": {
          "base_uri": "https://localhost:8080/"
        },
        "outputId": "667edf24-f5a5-498a-d8d1-f531cd23cd33"
      },
      "source": [
        "# R2 Score\n",
        "my_ref_eval.evaluate(randomFResult, {my_ref_eval.metricName:\"r2\"})"
      ],
      "execution_count": 153,
      "outputs": [
        {
          "output_type": "execute_result",
          "data": {
            "text/plain": [
              "0.8664210238311869"
            ]
          },
          "metadata": {
            "tags": []
          },
          "execution_count": 153
        }
      ]
    },
    {
      "cell_type": "code",
      "metadata": {
        "id": "Au7BK1UASAgR",
        "colab": {
          "base_uri": "https://localhost:8080/"
        },
        "outputId": "24a7c7c8-15f0-412f-c893-5169aee4ef88"
      },
      "source": [
        "# RMSE value\n",
        "my_ref_eval.evaluate(randomFResult, {my_ref_eval.metricName:\"rmse\"})"
      ],
      "execution_count": 154,
      "outputs": [
        {
          "output_type": "execute_result",
          "data": {
            "text/plain": [
              "4154.7035968499285"
            ]
          },
          "metadata": {
            "tags": []
          },
          "execution_count": 154
        }
      ]
    },
    {
      "cell_type": "code",
      "metadata": {
        "id": "f9QPFWRuSGIG",
        "colab": {
          "base_uri": "https://localhost:8080/"
        },
        "outputId": "201c97c7-a62e-460d-df42-120fb9bc8852"
      },
      "source": [
        "# MSE value\n",
        "my_ref_eval.evaluate(randomFResult, {my_ref_eval.metricName:\"mse\"})"
      ],
      "execution_count": 155,
      "outputs": [
        {
          "output_type": "execute_result",
          "data": {
            "text/plain": [
              "17261561.977677733"
            ]
          },
          "metadata": {
            "tags": []
          },
          "execution_count": 155
        }
      ]
    },
    {
      "cell_type": "markdown",
      "metadata": {
        "id": "KbAw69OAYWdw"
      },
      "source": [
        "**Gradient Boosting Regression**"
      ]
    },
    {
      "cell_type": "code",
      "metadata": {
        "id": "2UjxZ3g7SKSC",
        "colab": {
          "base_uri": "https://localhost:8080/"
        },
        "outputId": "d1040e77-2be4-47d0-bc2c-e17534b907f3"
      },
      "source": [
        "from pyspark.ml import Pipeline\n",
        "from pyspark.ml.regression import GBTRegressor\n",
        "from pyspark.ml.feature import VectorIndexer\n",
        "from pyspark.ml.evaluation import RegressionEvaluator\n",
        "\n",
        "\n",
        "# Train a GBT model.\n",
        "gbt = GBTRegressor(featuresCol=\"features\",labelCol=\"price\", maxIter=10)\n",
        "\n",
        "# Chain indexer and GBT in a Pipeline\n",
        "pipeline_gbt = Pipeline(stages=[model_indexer,transmission_indexer,fuel_type_indexer,\n",
        "                            model_encoder,transmission_encoder,fuel_type_encoder,\n",
        "                            assembler, gbt])\n",
        "\n",
        "# Train model.  This also runs the indexer.\n",
        "model = pipeline.fit(trainData)\n",
        "\n",
        "# Make predictions.\n",
        "predictions = model.transform(testData)\n",
        "\n",
        "# Select example rows to display.\n",
        "predictions.select(\"prediction\", \"price\", \"features\").show(5)\n"
      ],
      "execution_count": 156,
      "outputs": [
        {
          "output_type": "stream",
          "text": [
            "+------------------+-----+--------------------+\n",
            "|        prediction|price|            features|\n",
            "+------------------+-----+--------------------+\n",
            "|5496.4514918597415| 8998|(34,[3,25,26,28,3...|\n",
            "| 6810.087066974025| 8275|(34,[3,25,26,28,3...|\n",
            "|  9382.19734661933| 9782|(34,[3,25,26,28,3...|\n",
            "| 8719.136541481595|10700|(34,[3,25,26,28,3...|\n",
            "|  11986.4677021862|13750|(34,[3,25,27,28,3...|\n",
            "+------------------+-----+--------------------+\n",
            "only showing top 5 rows\n",
            "\n"
          ],
          "name": "stdout"
        }
      ]
    },
    {
      "cell_type": "code",
      "metadata": {
        "colab": {
          "base_uri": "https://localhost:8080/",
          "height": 623
        },
        "id": "Fm7-J6rWGKep",
        "outputId": "5cf5af1a-9490-46ef-a89e-86bbcc97d977"
      },
      "source": [
        "# Plotting the predicted price value by GBT against the original price\n",
        "graph_gbt = predictions.select(\"prediction\", \"price\").toPandas()\n",
        "x17 = graph_gbt[\"price\"]\n",
        "x18 = graph_gbt[\"prediction\"]\n",
        "plt.figure(figsize=(10,10))\n",
        "plt.scatter(np.arange(0,len(x17),1),x17,marker='x',label='Original Price')\n",
        "plt.xlabel(\"Index/Each entry in the dataset\")\n",
        "plt.ylabel(\"Price\")\n",
        "plt.scatter(np.arange(0,len(x18),1),x18,marker='s', label=\"Predicted Price\")\n",
        "plt.legend(loc=\"upper left\")"
      ],
      "execution_count": 157,
      "outputs": [
        {
          "output_type": "execute_result",
          "data": {
            "text/plain": [
              "<matplotlib.legend.Legend at 0x7f9a89083b10>"
            ]
          },
          "metadata": {
            "tags": []
          },
          "execution_count": 157
        },
        {
          "output_type": "display_data",
          "data": {
            "image/png": "[encoded data removed]",
            "text/plain": [
              "<Figure size 720x720 with 1 Axes>"
            ]
          },
          "metadata": {
            "tags": [],
            "needs_background": "light"
          }
        }
      ]
    },
    {
      "cell_type": "code",
      "metadata": {
        "colab": {
          "base_uri": "https://localhost:8080/"
        },
        "id": "k7Bc1yQAXEJi",
        "outputId": "3482ac26-28e7-4231-e93e-6ba4a8bf3461"
      },
      "source": [
        "\n",
        "# Select (prediction, true label) and compute test error\n",
        "evaluator = RegressionEvaluator(\n",
        "    labelCol=\"price\", predictionCol=\"prediction\", metricName=\"rmse\")\n",
        "rmse = evaluator.evaluate(predictions)\n",
        "print(\"Root Mean Squared Error (RMSE) on test data = %g\" % rmse)\n"
      ],
      "execution_count": 158,
      "outputs": [
        {
          "output_type": "stream",
          "text": [
            "Root Mean Squared Error (RMSE) on test data = 4374.02\n"
          ],
          "name": "stdout"
        }
      ]
    },
    {
      "cell_type": "code",
      "metadata": {
        "colab": {
          "base_uri": "https://localhost:8080/"
        },
        "id": "kYbqJyi7Xwky",
        "outputId": "c36eb0d3-07ba-4cb4-e0b7-cbdd46ab27f4"
      },
      "source": [
        "evaluatorR2 = RegressionEvaluator(\n",
        "    labelCol=\"price\", predictionCol=\"prediction\", metricName=\"r2\")\n",
        "r2 = evaluatorR2.evaluate(predictions)\n",
        "print(\"R2 Score on test data= %g\" % r2)\n",
        "gbtModel = model.stages[1]\n",
        "print(gbtModel)  # summary only\n"
      ],
      "execution_count": 159,
      "outputs": [
        {
          "output_type": "stream",
          "text": [
            "R2 Score on test data= 0.851946\n",
            "StringIndexerModel: uid=StringIndexer_fe9612fa6f93, handleInvalid=error\n"
          ],
          "name": "stdout"
        }
      ]
    },
    {
      "cell_type": "code",
      "metadata": {
        "id": "GIM6LgdnaNpm"
      },
      "source": [
        ""
      ],
      "execution_count": null,
      "outputs": []
    }
  ]
}