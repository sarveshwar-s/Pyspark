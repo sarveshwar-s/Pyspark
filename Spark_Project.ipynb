{
  "nbformat": 4,
  "nbformat_minor": 0,
  "metadata": {
    "colab": {
      "name": " Spark_Final_Project.ipynb",
      "provenance": [],
      "collapsed_sections": []
    },
    "kernelspec": {
      "name": "python3",
      "display_name": "Python 3"
    },
    "language_info": {
      "name": "python"
    }
  },
  "cells": [
    {
      "cell_type": "code",
      "metadata": {
        "colab": {
          "base_uri": "https://localhost:8080/"
        },
        "id": "02IYg6_F6yoY",
        "outputId": "094f7a34-81de-4bac-d958-1803719c3eb9"
      },
      "source": [
        "!pip install pyspark"
      ],
      "execution_count": 2,
      "outputs": [
        {
          "output_type": "stream",
          "text": [
            "Collecting pyspark\n",
            "  Downloading pyspark-3.1.2.tar.gz (212.4 MB)\n",
            "\u001b[K     |████████████████████████████████| 212.4 MB 65 kB/s \n",
            "\u001b[?25hCollecting py4j==0.10.9\n",
            "  Downloading py4j-0.10.9-py2.py3-none-any.whl (198 kB)\n",
            "\u001b[K     |████████████████████████████████| 198 kB 21.4 MB/s \n",
            "\u001b[?25hBuilding wheels for collected packages: pyspark\n",
            "  Building wheel for pyspark (setup.py) ... \u001b[?25l\u001b[?25hdone\n",
            "  Created wheel for pyspark: filename=pyspark-3.1.2-py2.py3-none-any.whl size=212880768 sha256=0fbef593888ca48e8c188035a40b1d51ec293aad8950e1e3f7b9953d97fea3d3\n",
            "  Stored in directory: /root/.cache/pip/wheels/a5/0a/c1/9561f6fecb759579a7d863dcd846daaa95f598744e71b02c77\n",
            "Successfully built pyspark\n",
            "Installing collected packages: py4j, pyspark\n",
            "Successfully installed py4j-0.10.9 pyspark-3.1.2\n"
          ],
          "name": "stdout"
        }
      ]
    },
    {
      "cell_type": "code",
      "metadata": {
        "id": "HllrTE826-Iz"
      },
      "source": [
        "import pandas as pd \n",
        "import numpy as np\n",
        "import pyspark"
      ],
      "execution_count": 93,
      "outputs": []
    },
    {
      "cell_type": "code",
      "metadata": {
        "id": "3t7AY4lLNSNA"
      },
      "source": [
        "from pyspark.sql import SparkSession"
      ],
      "execution_count": 6,
      "outputs": []
    },
    {
      "cell_type": "code",
      "metadata": {
        "id": "DfBQuZyYNdO6"
      },
      "source": [
        "spark = SparkSession.builder.appName(\"CarPrediction\").getOrCreate()"
      ],
      "execution_count": 7,
      "outputs": []
    },
    {
      "cell_type": "code",
      "metadata": {
        "id": "SsaRSaVtNnLJ"
      },
      "source": [
        "# Using read.csv to read the dataset\n",
        "df = spark.read.csv(\"./audi.csv\", inferSchema=True, header=True)"
      ],
      "execution_count": 8,
      "outputs": []
    },
    {
      "cell_type": "code",
      "metadata": {
        "colab": {
          "base_uri": "https://localhost:8080/"
        },
        "id": "_ItI28MfiSmv",
        "outputId": "6f18bf6c-ed57-40ff-e94d-4c8467932c46"
      },
      "source": [
        "for col in df.columns:\n",
        "  print(col, \"\\t\", \"with null values: \", df.filter(df[col].isNull()).count())"
      ],
      "execution_count": 9,
      "outputs": [
        {
          "output_type": "stream",
          "text": [
            "model \t with null values:  0\n",
            "year \t with null values:  0\n",
            "price \t with null values:  0\n",
            "transmission \t with null values:  0\n",
            "mileage \t with null values:  0\n",
            "fuelType \t with null values:  0\n",
            "tax \t with null values:  0\n",
            "mpg \t with null values:  0\n",
            "engineSize \t with null values:  0\n"
          ],
          "name": "stdout"
        }
      ]
    },
    {
      "cell_type": "code",
      "metadata": {
        "colab": {
          "base_uri": "https://localhost:8080/"
        },
        "id": "UaAqG-Dnir89",
        "outputId": "1b900a55-8646-4327-d75b-34be2a18d9c2"
      },
      "source": [
        "for col in df.columns:\n",
        "  print(col, \"\\t\", \"with ? values: \", df.filter(df[col]==\"?\").count())"
      ],
      "execution_count": 10,
      "outputs": [
        {
          "output_type": "stream",
          "text": [
            "model \t with ? values:  0\n",
            "year \t with ? values:  0\n",
            "price \t with ? values:  0\n",
            "transmission \t with ? values:  0\n",
            "mileage \t with ? values:  0\n",
            "fuelType \t with ? values:  0\n",
            "tax \t with ? values:  0\n",
            "mpg \t with ? values:  0\n",
            "engineSize \t with ? values:  0\n"
          ],
          "name": "stdout"
        }
      ]
    },
    {
      "cell_type": "code",
      "metadata": {
        "colab": {
          "base_uri": "https://localhost:8080/"
        },
        "id": "o8tKID0PNwJ6",
        "outputId": "3a9ed47f-5a08-4726-dc22-72361814cf7a"
      },
      "source": [
        "df.printSchema() # outputs the schema types which are automatically determined by spark"
      ],
      "execution_count": 11,
      "outputs": [
        {
          "output_type": "stream",
          "text": [
            "root\n",
            " |-- model: string (nullable = true)\n",
            " |-- year: integer (nullable = true)\n",
            " |-- price: integer (nullable = true)\n",
            " |-- transmission: string (nullable = true)\n",
            " |-- mileage: integer (nullable = true)\n",
            " |-- fuelType: string (nullable = true)\n",
            " |-- tax: integer (nullable = true)\n",
            " |-- mpg: double (nullable = true)\n",
            " |-- engineSize: double (nullable = true)\n",
            "\n"
          ],
          "name": "stdout"
        }
      ]
    },
    {
      "cell_type": "code",
      "metadata": {
        "colab": {
          "base_uri": "https://localhost:8080/"
        },
        "id": "5UpekeFCP0wp",
        "outputId": "8489c394-56ee-48f2-befb-1c0745e2fdb9"
      },
      "source": [
        "df.show()"
      ],
      "execution_count": 12,
      "outputs": [
        {
          "output_type": "stream",
          "text": [
            "+-----+----+-----+------------+-------+--------+---+----+----------+\n",
            "|model|year|price|transmission|mileage|fuelType|tax| mpg|engineSize|\n",
            "+-----+----+-----+------------+-------+--------+---+----+----------+\n",
            "|   A1|2017|12500|      Manual|  15735|  Petrol|150|55.4|       1.4|\n",
            "|   A6|2016|16500|   Automatic|  36203|  Diesel| 20|64.2|       2.0|\n",
            "|   A1|2016|11000|      Manual|  29946|  Petrol| 30|55.4|       1.4|\n",
            "|   A4|2017|16800|   Automatic|  25952|  Diesel|145|67.3|       2.0|\n",
            "|   A3|2019|17300|      Manual|   1998|  Petrol|145|49.6|       1.0|\n",
            "|   A1|2016|13900|   Automatic|  32260|  Petrol| 30|58.9|       1.4|\n",
            "|   A6|2016|13250|   Automatic|  76788|  Diesel| 30|61.4|       2.0|\n",
            "|   A4|2016|11750|      Manual|  75185|  Diesel| 20|70.6|       2.0|\n",
            "|   A3|2015|10200|      Manual|  46112|  Petrol| 20|60.1|       1.4|\n",
            "|   A1|2016|12000|      Manual|  22451|  Petrol| 30|55.4|       1.4|\n",
            "|   A3|2017|16100|      Manual|  28955|  Petrol|145|58.9|       1.4|\n",
            "|   A6|2016|16500|   Automatic|  52198|  Diesel|125|57.6|       2.0|\n",
            "|   Q3|2016|17000|      Manual|  44915|  Diesel|145|52.3|       2.0|\n",
            "|   A3|2017|16400|      Manual|  21695|  Petrol| 30|58.9|       1.4|\n",
            "|   A6|2015|15400|      Manual|  47348|  Diesel| 30|61.4|       2.0|\n",
            "|   A3|2017|14500|   Automatic|  26156|  Petrol|145|58.9|       1.4|\n",
            "|   Q3|2016|15700|   Automatic|  28396|  Diesel|145|53.3|       2.0|\n",
            "|   A3|2014|13900|   Automatic|  30516|  Petrol| 30|56.5|       1.4|\n",
            "|   Q5|2016|19000|   Automatic|  37652|  Diesel|200|47.1|       2.0|\n",
            "|   Q3|2014|17000|      Manual|  34110|  Petrol|145|47.9|       1.4|\n",
            "+-----+----+-----+------------+-------+--------+---+----+----------+\n",
            "only showing top 20 rows\n",
            "\n"
          ],
          "name": "stdout"
        }
      ]
    },
    {
      "cell_type": "code",
      "metadata": {
        "colab": {
          "base_uri": "https://localhost:8080/"
        },
        "id": "2O3pk7YZP-Jw",
        "outputId": "70b38b89-f36f-4f07-e91f-3d39a997cf2a"
      },
      "source": [
        "df.columns"
      ],
      "execution_count": 13,
      "outputs": [
        {
          "output_type": "execute_result",
          "data": {
            "text/plain": [
              "['model',\n",
              " 'year',\n",
              " 'price',\n",
              " 'transmission',\n",
              " 'mileage',\n",
              " 'fuelType',\n",
              " 'tax',\n",
              " 'mpg',\n",
              " 'engineSize']"
            ]
          },
          "metadata": {
            "tags": []
          },
          "execution_count": 13
        }
      ]
    },
    {
      "cell_type": "code",
      "metadata": {
        "colab": {
          "base_uri": "https://localhost:8080/"
        },
        "id": "Pu9Yb1frQBDv",
        "outputId": "1cf504b8-9d2d-4e53-af75-d60c8af04b49"
      },
      "source": [
        "df.describe()"
      ],
      "execution_count": 14,
      "outputs": [
        {
          "output_type": "execute_result",
          "data": {
            "text/plain": [
              "DataFrame[summary: string, model: string, year: string, price: string, transmission: string, mileage: string, fuelType: string, tax: string, mpg: string, engineSize: string]"
            ]
          },
          "metadata": {
            "tags": []
          },
          "execution_count": 14
        }
      ]
    },
    {
      "cell_type": "code",
      "metadata": {
        "colab": {
          "base_uri": "https://localhost:8080/"
        },
        "id": "Ghz_hBaaN-lY",
        "outputId": "9447b127-2fa5-4309-99bd-51a12a007021"
      },
      "source": [
        "# taking the cars whose price is less than 15000 and the transmission is Manual\n",
        "df.filter((df[\"transmission\"] == \"Manual\") & (df[\"price\"]<15000)).show()"
      ],
      "execution_count": 15,
      "outputs": [
        {
          "output_type": "stream",
          "text": [
            "+-----+----+-----+------------+-------+--------+---+----+----------+\n",
            "|model|year|price|transmission|mileage|fuelType|tax| mpg|engineSize|\n",
            "+-----+----+-----+------------+-------+--------+---+----+----------+\n",
            "|   A1|2017|12500|      Manual|  15735|  Petrol|150|55.4|       1.4|\n",
            "|   A1|2016|11000|      Manual|  29946|  Petrol| 30|55.4|       1.4|\n",
            "|   A4|2016|11750|      Manual|  75185|  Diesel| 20|70.6|       2.0|\n",
            "|   A3|2015|10200|      Manual|  46112|  Petrol| 20|60.1|       1.4|\n",
            "|   A1|2016|12000|      Manual|  22451|  Petrol| 30|55.4|       1.4|\n",
            "|   A6|2015|14000|      Manual|  61176|  Diesel| 30|62.8|       2.0|\n",
            "|   A1|2017|10800|      Manual|  31447|  Petrol|145|67.3|       1.0|\n",
            "|   A3|2015|11300|      Manual|  75619|  Diesel| 20|68.9|       2.0|\n",
            "|   A4|2016|12750|      Manual|  52561|  Diesel|  0|74.3|       2.0|\n",
            "|   A1|2014|11000|      Manual|  34315|  Petrol|125|53.3|       1.4|\n",
            "|   A3|2016|10200|      Manual|  66369|  Diesel|  0|83.1|       1.6|\n",
            "|   A1|2013| 7000|      Manual|  76269|  Diesel|  0|74.3|       1.6|\n",
            "|   A3|2016|10600|      Manual|  37840|  Diesel| 20|70.6|       1.6|\n",
            "|   Q3|2017|14000|      Manual|  67161|  Petrol|150|51.4|       1.4|\n",
            "|   A4|2016|10200|      Manual|  97440|  Diesel| 20|70.6|       2.0|\n",
            "|   A1|2017|11700|      Manual|  19268|  Petrol|150|67.3|       1.0|\n",
            "|   A1|2016|10800|      Manual|  18181|  Petrol|  0|67.3|       1.0|\n",
            "|   A3|2016|12500|      Manual|  19494|  Diesel| 30|67.3|       2.0|\n",
            "|   A3|2017|13100|      Manual|  25965|  Diesel|145|65.7|       2.0|\n",
            "|   A3|2016| 8300|      Manual|  88215|  Diesel| 20|68.9|       2.0|\n",
            "+-----+----+-----+------------+-------+--------+---+----+----------+\n",
            "only showing top 20 rows\n",
            "\n"
          ],
          "name": "stdout"
        }
      ]
    },
    {
      "cell_type": "code",
      "metadata": {
        "colab": {
          "base_uri": "https://localhost:8080/"
        },
        "id": "ij3TlG5LOkh6",
        "outputId": "52c9e315-40c5-4978-97a4-6900b28e26a1"
      },
      "source": [
        "df.groupBy(\"model\")"
      ],
      "execution_count": 16,
      "outputs": [
        {
          "output_type": "execute_result",
          "data": {
            "text/plain": [
              "<pyspark.sql.group.GroupedData at 0x7f9ab0a94490>"
            ]
          },
          "metadata": {
            "tags": []
          },
          "execution_count": 16
        }
      ]
    },
    {
      "cell_type": "code",
      "metadata": {
        "colab": {
          "base_uri": "https://localhost:8080/"
        },
        "id": "gdj9ipZ6Qhp4",
        "outputId": "b208a864-ead6-4264-9490-80fbf7677aab"
      },
      "source": [
        "df.groupBy(\"model\").count().show()"
      ],
      "execution_count": 17,
      "outputs": [
        {
          "output_type": "stream",
          "text": [
            "+-----+-----+\n",
            "|model|count|\n",
            "+-----+-----+\n",
            "|   A7|  122|\n",
            "|  SQ7|    8|\n",
            "|   A4| 1381|\n",
            "|  RS3|   33|\n",
            "|   S3|   18|\n",
            "|  RS5|   29|\n",
            "|  RS6|   39|\n",
            "|  SQ5|   16|\n",
            "|   S4|   12|\n",
            "|   Q8|   69|\n",
            "|  RS4|   31|\n",
            "|   A1| 1347|\n",
            "|   A3| 1929|\n",
            "|   Q2|  822|\n",
            "|  RS7|    1|\n",
            "|   Q7|  397|\n",
            "|   Q3| 1417|\n",
            "|   R8|   28|\n",
            "|   S5|    3|\n",
            "|   Q5|  877|\n",
            "+-----+-----+\n",
            "only showing top 20 rows\n",
            "\n"
          ],
          "name": "stdout"
        }
      ]
    },
    {
      "cell_type": "code",
      "metadata": {
        "colab": {
          "base_uri": "https://localhost:8080/"
        },
        "id": "xT4RWG7vQmJ8",
        "outputId": "ba3c4df6-8bb8-422f-ed36-408798c49660"
      },
      "source": [
        "df.groupby(\"model\").mean()[[\"model\",\"avg(price)\"]].show()"
      ],
      "execution_count": 18,
      "outputs": [
        {
          "output_type": "stream",
          "text": [
            "+-----+------------------+\n",
            "|model|        avg(price)|\n",
            "+-----+------------------+\n",
            "|   A7|28865.516393442624|\n",
            "|  SQ7|           49269.0|\n",
            "|   A4|20255.450398262128|\n",
            "|  RS3| 34050.51515151515|\n",
            "|   S3|20379.444444444445|\n",
            "|  RS5|51265.206896551725|\n",
            "|  RS6|  55963.8717948718|\n",
            "|  SQ5|        31415.8125|\n",
            "|   S4|31248.083333333332|\n",
            "|   Q8|60115.014492753624|\n",
            "|  RS4|  50151.6129032258|\n",
            "|   A1|14327.750556792873|\n",
            "|   A3|17408.522032141005|\n",
            "|   Q2|22516.975669099756|\n",
            "|  RS7|           33490.0|\n",
            "|   Q7|44788.319899244336|\n",
            "|   Q3| 22999.26182074806|\n",
            "|   R8| 97652.21428571429|\n",
            "|   S5|           15980.0|\n",
            "|   Q5|30445.688711516534|\n",
            "+-----+------------------+\n",
            "only showing top 20 rows\n",
            "\n"
          ],
          "name": "stdout"
        }
      ]
    },
    {
      "cell_type": "code",
      "metadata": {
        "colab": {
          "base_uri": "https://localhost:8080/"
        },
        "id": "JAzzu4xydTJB",
        "outputId": "3b0bf2ad-eb2a-4cfd-a0eb-f3c0de67903b"
      },
      "source": [
        "df.groupBy(\"year\").mean()[[\"year\",\"avg(tax)\"]].show()"
      ],
      "execution_count": 19,
      "outputs": [
        {
          "output_type": "stream",
          "text": [
            "+----+------------------+\n",
            "|year|          avg(tax)|\n",
            "+----+------------------+\n",
            "|2003|255.83333333333334|\n",
            "|2007|          340.9375|\n",
            "|2018| 146.1747685185185|\n",
            "|2015| 98.95395395395396|\n",
            "|2006| 371.1111111111111|\n",
            "|2013|125.97938144329896|\n",
            "|1997|             265.0|\n",
            "|2014| 129.0268456375839|\n",
            "|2019|  145.573975602127|\n",
            "|2004|             319.0|\n",
            "|1998|             265.0|\n",
            "|2020| 145.5377094972067|\n",
            "|2012|132.11764705882354|\n",
            "|2009|223.47826086956522|\n",
            "|2016| 85.06364562118127|\n",
            "|2005| 269.2857142857143|\n",
            "|2010|            176.25|\n",
            "|2011| 160.2127659574468|\n",
            "|2008|252.38095238095238|\n",
            "|2017|123.17054263565892|\n",
            "+----+------------------+\n",
            "only showing top 20 rows\n",
            "\n"
          ],
          "name": "stdout"
        }
      ]
    },
    {
      "cell_type": "code",
      "metadata": {
        "colab": {
          "base_uri": "https://localhost:8080/"
        },
        "id": "yJMQ1IeXdzex",
        "outputId": "357652ff-e1ca-4632-8a33-a3526d31cac7"
      },
      "source": [
        "df.take(10)"
      ],
      "execution_count": 20,
      "outputs": [
        {
          "output_type": "execute_result",
          "data": {
            "text/plain": [
              "[Row(model=' A1', year=2017, price=12500, transmission='Manual', mileage=15735, fuelType='Petrol', tax=150, mpg=55.4, engineSize=1.4),\n",
              " Row(model=' A6', year=2016, price=16500, transmission='Automatic', mileage=36203, fuelType='Diesel', tax=20, mpg=64.2, engineSize=2.0),\n",
              " Row(model=' A1', year=2016, price=11000, transmission='Manual', mileage=29946, fuelType='Petrol', tax=30, mpg=55.4, engineSize=1.4),\n",
              " Row(model=' A4', year=2017, price=16800, transmission='Automatic', mileage=25952, fuelType='Diesel', tax=145, mpg=67.3, engineSize=2.0),\n",
              " Row(model=' A3', year=2019, price=17300, transmission='Manual', mileage=1998, fuelType='Petrol', tax=145, mpg=49.6, engineSize=1.0),\n",
              " Row(model=' A1', year=2016, price=13900, transmission='Automatic', mileage=32260, fuelType='Petrol', tax=30, mpg=58.9, engineSize=1.4),\n",
              " Row(model=' A6', year=2016, price=13250, transmission='Automatic', mileage=76788, fuelType='Diesel', tax=30, mpg=61.4, engineSize=2.0),\n",
              " Row(model=' A4', year=2016, price=11750, transmission='Manual', mileage=75185, fuelType='Diesel', tax=20, mpg=70.6, engineSize=2.0),\n",
              " Row(model=' A3', year=2015, price=10200, transmission='Manual', mileage=46112, fuelType='Petrol', tax=20, mpg=60.1, engineSize=1.4),\n",
              " Row(model=' A1', year=2016, price=12000, transmission='Manual', mileage=22451, fuelType='Petrol', tax=30, mpg=55.4, engineSize=1.4)]"
            ]
          },
          "metadata": {
            "tags": []
          },
          "execution_count": 20
        }
      ]
    },
    {
      "cell_type": "markdown",
      "metadata": {
        "id": "Q7eS41QJkOU6"
      },
      "source": [
        "**Performing Data Visualization**\n",
        "* Here we perform data visualization using matplotlib plotting functions"
      ]
    },
    {
      "cell_type": "code",
      "metadata": {
        "id": "xZ7UPYuWkgyS"
      },
      "source": [
        "# Performing data visualization\n",
        "import matplotlib.pyplot as plt\n"
      ],
      "execution_count": 21,
      "outputs": []
    },
    {
      "cell_type": "code",
      "metadata": {
        "colab": {
          "base_uri": "https://localhost:8080/",
          "height": 282
        },
        "id": "eVDYH9X7hwgt",
        "outputId": "d79da48b-9933-469f-d01b-252399485c93"
      },
      "source": [
        "\n",
        "x1 = df.toPandas()[\"year\"].values.tolist()\n",
        "y1 = df.toPandas()[\"price\"].values.tolist()\n",
        "plt.scatter(x1,y1)\n"
      ],
      "execution_count": 22,
      "outputs": [
        {
          "output_type": "execute_result",
          "data": {
            "text/plain": [
              "<matplotlib.collections.PathCollection at 0x7f9ab0892b10>"
            ]
          },
          "metadata": {
            "tags": []
          },
          "execution_count": 22
        },
        {
          "output_type": "display_data",
          "data": {
            "image/png": "[encoded data removed]",
            "text/plain": [
              "<Figure size 432x288 with 1 Axes>"
            ]
          },
          "metadata": {
            "tags": [],
            "needs_background": "light"
          }
        }
      ]
    },
    {
      "cell_type": "code",
      "metadata": {
        "colab": {
          "base_uri": "https://localhost:8080/",
          "height": 296
        },
        "id": "Pueg0a5blOpf",
        "outputId": "43f56e4f-a8ba-4aaf-c823-0b147d0627e8"
      },
      "source": [
        "x2 = df.toPandas()[\"model\"].values.tolist()\n",
        "y2 = df.toPandas()[\"price\"].values.tolist()\n",
        "ax = plt.subplot()\n",
        "ax.barh(x2,y2)\n",
        "ax.set_xlabel(\"Price\")\n",
        "ax.set_ylabel(\"Model\")"
      ],
      "execution_count": 23,
      "outputs": [
        {
          "output_type": "execute_result",
          "data": {
            "text/plain": [
              "Text(0, 0.5, 'Model')"
            ]
          },
          "metadata": {
            "tags": []
          },
          "execution_count": 23
        },
        {
          "output_type": "display_data",
          "data": {
            "image/png": "[encoded data removed]",
            "text/plain": [
              "<Figure size 432x288 with 1 Axes>"
            ]
          },
          "metadata": {
            "tags": [],
            "needs_background": "light"
          }
        }
      ]
    },
    {
      "cell_type": "code",
      "metadata": {
        "colab": {
          "base_uri": "https://localhost:8080/",
          "height": 530
        },
        "id": "0K9JnUI0m5eu",
        "outputId": "d1d62db8-013f-414c-e15d-019291b01717"
      },
      "source": [
        "y3 = df.toPandas()[\"mileage\"]\n",
        "plt.figure(figsize=(10,8))\n",
        "plt.bar(x2,y3)\n",
        "plt.xlabel(\"Model\")\n",
        "plt.ylabel(\"Mileage\")\n",
        "plt.title(label=\"Mileage Per Model\")"
      ],
      "execution_count": 24,
      "outputs": [
        {
          "output_type": "execute_result",
          "data": {
            "text/plain": [
              "Text(0.5, 1.0, 'Mileage Per Model')"
            ]
          },
          "metadata": {
            "tags": []
          },
          "execution_count": 24
        },
        {
          "output_type": "display_data",
          "data": {
            "image/png": "[encoded data removed]",
            "text/plain": [
              "<Figure size 720x576 with 1 Axes>"
            ]
          },
          "metadata": {
            "tags": [],
            "needs_background": "light"
          }
        }
      ]
    },
    {
      "cell_type": "code",
      "metadata": {
        "colab": {
          "base_uri": "https://localhost:8080/",
          "height": 367
        },
        "id": "DyIjB6mvz2iY",
        "outputId": "ed7a58d0-3636-48f3-9035-245fe4a9c955"
      },
      "source": [
        "# Relationship between price and engine size\n",
        "x12 = df.toPandas()[\"mileage\"].values.tolist()\n",
        "y12 = df.toPandas()[\"price\"].values.tolist()\n",
        "plt.figure(figsize=(5,5))\n",
        "plt.scatter(x12,y12)\n",
        "plt.xlabel(\"Mileage of Car\")\n",
        "plt.ylabel(\"Price of Car\")\n",
        "plt.title(\"Relationship between price and mileage\")\n"
      ],
      "execution_count": 25,
      "outputs": [
        {
          "output_type": "execute_result",
          "data": {
            "text/plain": [
              "Text(0.5, 1.0, 'Relationship between price and mileage')"
            ]
          },
          "metadata": {
            "tags": []
          },
          "execution_count": 25
        },
        {
          "output_type": "display_data",
          "data": {
            "image/png": "[encoded data removed]",
            "text/plain": [
              "<Figure size 360x360 with 1 Axes>"
            ]
          },
          "metadata": {
            "tags": [],
            "needs_background": "light"
          }
        }
      ]
    },
    {
      "cell_type": "code",
      "metadata": {
        "colab": {
          "base_uri": "https://localhost:8080/",
          "height": 530
        },
        "id": "Ke_otgoHn0s_",
        "outputId": "28ec97b2-7714-4b7c-97ba-963012564f6e"
      },
      "source": [
        "x4 = df.groupBy(\"model\").mean()[[\"model\",\"avg(tax)\"]].toPandas()[\"model\"].values.tolist()\n",
        "y4 = df.groupBy(\"model\").mean()[[\"model\",\"avg(tax)\"]].toPandas()[\"avg(tax)\"].values.tolist()\n",
        "plt.figure(figsize=(10,8))\n",
        "plt.bar(x4, y4)\n",
        "plt.xlabel(\"model\")\n",
        "plt.ylabel(\"Average Tax\")\n",
        "plt.title(\"Average Tax Per Model\")\n"
      ],
      "execution_count": 26,
      "outputs": [
        {
          "output_type": "execute_result",
          "data": {
            "text/plain": [
              "Text(0.5, 1.0, 'Average Tax Per Model')"
            ]
          },
          "metadata": {
            "tags": []
          },
          "execution_count": 26
        },
        {
          "output_type": "display_data",
          "data": {
            "image/png": "[encoded data removed]",
            "text/plain": [
              "<Figure size 720x576 with 1 Axes>"
            ]
          },
          "metadata": {
            "tags": [],
            "needs_background": "light"
          }
        }
      ]
    },
    {
      "cell_type": "code",
      "metadata": {
        "colab": {
          "base_uri": "https://localhost:8080/",
          "height": 367
        },
        "id": "HIxkggYmqpUb",
        "outputId": "22547836-e7fc-43ef-a7f4-211e68071eaa"
      },
      "source": [
        "x5 = df.groupBy(\"transmission\").count().toPandas()[\"transmission\"].values.tolist()\n",
        "y5 = df.groupBy(\"transmission\").count().toPandas()[\"count\"].values.tolist()\n",
        "plt.figure(figsize=(5,5))\n",
        "plt.bar(x5, y5)\n",
        "plt.xlabel(\"Transmission Type\")\n",
        "plt.ylabel(\"Count\")\n",
        "plt.title(\"Types of Transmission\")\n"
      ],
      "execution_count": 27,
      "outputs": [
        {
          "output_type": "execute_result",
          "data": {
            "text/plain": [
              "Text(0.5, 1.0, 'Types of Transmission')"
            ]
          },
          "metadata": {
            "tags": []
          },
          "execution_count": 27
        },
        {
          "output_type": "display_data",
          "data": {
            "image/png": "[encoded data removed]",
            "text/plain": [
              "<Figure size 360x360 with 1 Axes>"
            ]
          },
          "metadata": {
            "tags": [],
            "needs_background": "light"
          }
        }
      ]
    },
    {
      "cell_type": "code",
      "metadata": {
        "colab": {
          "base_uri": "https://localhost:8080/",
          "height": 367
        },
        "id": "Iq18465vsFmr",
        "outputId": "f23685ad-f4e1-4bd5-dc16-7749a5d6c7c6"
      },
      "source": [
        "x6 = df.groupBy(\"transmission\").count().toPandas()[\"transmission\"].values.tolist()\n",
        "y6 = df.groupBy(\"transmission\").mean().toPandas()[\"avg(price)\"].values.tolist()\n",
        "plt.figure(figsize=(5,5))\n",
        "plt.bar(x6, y6)\n",
        "plt.xlabel(\"Transmission Type\")\n",
        "plt.ylabel(\"Average Price\")\n",
        "plt.title(\"Average Price of each transmission\")\n"
      ],
      "execution_count": 28,
      "outputs": [
        {
          "output_type": "execute_result",
          "data": {
            "text/plain": [
              "Text(0.5, 1.0, 'Average Price of each transmission')"
            ]
          },
          "metadata": {
            "tags": []
          },
          "execution_count": 28
        },
        {
          "output_type": "display_data",
          "data": {
            "image/png": "[encoded data removed]",
            "text/plain": [
              "<Figure size 360x360 with 1 Axes>"
            ]
          },
          "metadata": {
            "tags": [],
            "needs_background": "light"
          }
        }
      ]
    },
    {
      "cell_type": "code",
      "metadata": {
        "colab": {
          "base_uri": "https://localhost:8080/",
          "height": 367
        },
        "id": "RGhjGj33uu0x",
        "outputId": "91598fb6-97e2-442a-adb5-d2616a6093bf"
      },
      "source": [
        "x7 = df.groupBy(\"fuelType\").count().toPandas()[\"fuelType\"].values.tolist()\n",
        "y7 = df.groupBy(\"fuelType\").count().toPandas()[\"count\"].values.tolist()\n",
        "plt.figure(figsize=(5,5))\n",
        "plt.bar(x7, y7)\n",
        "plt.xlabel(\"Fuel Type\")\n",
        "plt.ylabel(\"Number of Cars\")\n",
        "plt.title(\"Number of car available based on Fuel Type\")\n"
      ],
      "execution_count": 29,
      "outputs": [
        {
          "output_type": "execute_result",
          "data": {
            "text/plain": [
              "Text(0.5, 1.0, 'Number of car available based on Fuel Type')"
            ]
          },
          "metadata": {
            "tags": []
          },
          "execution_count": 29
        },
        {
          "output_type": "display_data",
          "data": {
            "image/png": "[encoded data removed]",
            "text/plain": [
              "<Figure size 360x360 with 1 Axes>"
            ]
          },
          "metadata": {
            "tags": [],
            "needs_background": "light"
          }
        }
      ]
    },
    {
      "cell_type": "code",
      "metadata": {
        "colab": {
          "base_uri": "https://localhost:8080/",
          "height": 367
        },
        "id": "7pssH1vIvMKz",
        "outputId": "6c27fa09-2383-4e8a-e474-36a03c47aa86"
      },
      "source": [
        "x8 = df.groupBy(\"fuelType\").count().toPandas()[\"fuelType\"].values.tolist()\n",
        "y8 = df.groupBy(\"fuelType\").mean().toPandas()[\"avg(price)\"].values.tolist()\n",
        "plt.figure(figsize=(5,5))\n",
        "plt.bar(x8, y8)\n",
        "plt.xlabel(\"Fuel Type\")\n",
        "plt.ylabel(\"Average Price of Cars\")\n",
        "plt.title(\"Average Price of car based on Fuel Type\")\n"
      ],
      "execution_count": 30,
      "outputs": [
        {
          "output_type": "execute_result",
          "data": {
            "text/plain": [
              "Text(0.5, 1.0, 'Average Price of car based on Fuel Type')"
            ]
          },
          "metadata": {
            "tags": []
          },
          "execution_count": 30
        },
        {
          "output_type": "display_data",
          "data": {
            "image/png": "[encoded data removed]",
            "text/plain": [
              "<Figure size 360x360 with 1 Axes>"
            ]
          },
          "metadata": {
            "tags": [],
            "needs_background": "light"
          }
        }
      ]
    },
    {
      "cell_type": "code",
      "metadata": {
        "colab": {
          "base_uri": "https://localhost:8080/",
          "height": 367
        },
        "id": "uUEQm7VuvfB1",
        "outputId": "55abf4dd-2622-4407-f4a6-31ccddf5ff64"
      },
      "source": [
        "# Relationship between price and engine size\n",
        "x9 = df.groupBy(\"engineSize\").mean().toPandas()[\"engineSize\"].values.tolist()\n",
        "y9 = df.groupBy(\"engineSize\").mean().toPandas()[\"avg(price)\"].values.tolist()\n",
        "plt.figure(figsize=(5,5))\n",
        "plt.bar(x9,y9,width=0.05)\n",
        "plt.xlabel(\"Engine Size\")\n",
        "plt.ylabel(\"Average Price\")\n",
        "plt.title(\"Average Price based on Size of Engine\")\n"
      ],
      "execution_count": 31,
      "outputs": [
        {
          "output_type": "execute_result",
          "data": {
            "text/plain": [
              "Text(0.5, 1.0, 'Average Price based on Size of Engine')"
            ]
          },
          "metadata": {
            "tags": []
          },
          "execution_count": 31
        },
        {
          "output_type": "display_data",
          "data": {
            "image/png": "[encoded data removed]",
            "text/plain": [
              "<Figure size 360x360 with 1 Axes>"
            ]
          },
          "metadata": {
            "tags": [],
            "needs_background": "light"
          }
        }
      ]
    },
    {
      "cell_type": "code",
      "metadata": {
        "colab": {
          "base_uri": "https://localhost:8080/",
          "height": 638
        },
        "id": "B2o-tJ_zy2pC",
        "outputId": "037ae1d7-98f7-4e5a-99e8-f3082bc90f6f"
      },
      "source": [
        "# Relationship between price and miles per gallon (mpg)\n",
        "# Relationship between price and engine size\n",
        "x10 = df.groupBy(\"mpg\").mean().toPandas()[\"mpg\"].values.tolist()\n",
        "y10 = df.groupBy(\"mpg\").mean().toPandas()[\"avg(price)\"].values.tolist()\n",
        "plt.figure(figsize=(10,10))\n",
        "plt.bar(x10,y10,width=0.5)\n",
        "plt.xlabel(\"Mpg(Miles-Per-Gallon)\")\n",
        "plt.ylabel(\"Average Price\")\n",
        "plt.title(\"Average Price based on MPG(Miles-Per-Gallon)\")\n"
      ],
      "execution_count": 32,
      "outputs": [
        {
          "output_type": "execute_result",
          "data": {
            "text/plain": [
              "Text(0.5, 1.0, 'Average Price based on MPG(Miles-Per-Gallon)')"
            ]
          },
          "metadata": {
            "tags": []
          },
          "execution_count": 32
        },
        {
          "output_type": "display_data",
          "data": {
            "image/png": "[encoded data removed]",
            "text/plain": [
              "<Figure size 720x720 with 1 Axes>"
            ]
          },
          "metadata": {
            "tags": [],
            "needs_background": "light"
          }
        }
      ]
    },
    {
      "cell_type": "markdown",
      "metadata": {
        "id": "lbx5H-eOUWq_"
      },
      "source": [
        "**Feature Engineering(DataTransformation)**\n",
        "* Performing oneHotEncoder"
      ]
    },
    {
      "cell_type": "code",
      "metadata": {
        "id": "3DVUixgR0uVU"
      },
      "source": [
        "# converting categorical data in model column using the one hot encoder \n",
        "from pyspark.ml.feature import (VectorAssembler, VectorIndexer,OneHotEncoder,StringIndexer)"
      ],
      "execution_count": 33,
      "outputs": []
    },
    {
      "cell_type": "code",
      "metadata": {
        "id": "fpYaaW9P2hF1"
      },
      "source": [
        "model_indexer = StringIndexer(inputCol='model', outputCol='modelIndex')\n",
        "model_encoder = OneHotEncoder(inputCol='modelIndex', outputCol='modelVector')"
      ],
      "execution_count": 34,
      "outputs": []
    },
    {
      "cell_type": "code",
      "metadata": {
        "id": "Nb0lp6Kl3C53"
      },
      "source": [
        "transmission_indexer = StringIndexer(inputCol='transmission', outputCol='transmissionIndex')\n",
        "transmission_encoder = OneHotEncoder(inputCol='transmissionIndex', outputCol='transmissionVec')"
      ],
      "execution_count": 35,
      "outputs": []
    },
    {
      "cell_type": "code",
      "metadata": {
        "id": "IjXflf-p3hRX"
      },
      "source": [
        "fuel_type_indexer = StringIndexer(inputCol='fuelType', outputCol='fuelTypeIndex')\n",
        "fuel_type_encoder = OneHotEncoder(inputCol='fuelTypeIndex', outputCol='fuelTypeVector')"
      ],
      "execution_count": 36,
      "outputs": []
    },
    {
      "cell_type": "code",
      "metadata": {
        "id": "oBXfrHok3wGV"
      },
      "source": [
        "assembler = VectorAssembler(inputCols=['modelVector', 'year', 'transmissionVec'\n",
        "            ,'mileage','fuelTypeVector','tax','mpg','engineSize'],outputCol='features')"
      ],
      "execution_count": 37,
      "outputs": []
    },
    {
      "cell_type": "code",
      "metadata": {
        "id": "kSp6_xzou-gd"
      },
      "source": [
        "# pearson = Correlation.corr(df, 'features').head()"
      ],
      "execution_count": 38,
      "outputs": []
    },
    {
      "cell_type": "code",
      "metadata": {
        "id": "V7TkH4-ZvA5e"
      },
      "source": [
        "# print(str(pearson[0]))"
      ],
      "execution_count": 39,
      "outputs": []
    },
    {
      "cell_type": "code",
      "metadata": {
        "id": "OAh70g-gvBhD"
      },
      "source": [
        "# # Another method\n",
        "# spearman = Correlation.corr(df, 'features', 'spearman').head()"
      ],
      "execution_count": 40,
      "outputs": []
    },
    {
      "cell_type": "code",
      "metadata": {
        "id": "NbiVz_S6vGln"
      },
      "source": [
        "# print(str(spearman[0]))"
      ],
      "execution_count": 41,
      "outputs": []
    },
    {
      "cell_type": "code",
      "metadata": {
        "id": "fhmqIIgUfb19"
      },
      "source": [
        "# df.features.collect()"
      ],
      "execution_count": 42,
      "outputs": []
    },
    {
      "cell_type": "markdown",
      "metadata": {
        "id": "CTEssUfWUrhL"
      },
      "source": [
        "**Building Regression Model**\n",
        "* Using multiple regression algorithms"
      ]
    },
    {
      "cell_type": "code",
      "metadata": {
        "id": "Yylx5UHR4WZe"
      },
      "source": [
        "from pyspark.ml.regression import LinearRegression"
      ],
      "execution_count": 43,
      "outputs": []
    },
    {
      "cell_type": "code",
      "metadata": {
        "id": "QHShckxV4jRH"
      },
      "source": [
        "linear_reg = LinearRegression(featuresCol='features',labelCol='price', maxIter=10)"
      ],
      "execution_count": 44,
      "outputs": []
    },
    {
      "cell_type": "code",
      "metadata": {
        "id": "CCePxoXNI4gp"
      },
      "source": [
        "from pyspark.ml.regression import LinearRegressionModel\n",
        "linear_reg_model = LinearRegressionModel()"
      ],
      "execution_count": 45,
      "outputs": []
    },
    {
      "cell_type": "code",
      "metadata": {
        "id": "yCFpGjBg7s6u"
      },
      "source": [
        "trainData, testData = df.randomSplit([0.7,.03])"
      ],
      "execution_count": 46,
      "outputs": []
    },
    {
      "cell_type": "code",
      "metadata": {
        "id": "lWpyDoXfA53Z"
      },
      "source": [
        "from pyspark.ml import Pipeline\n",
        "pipeline = Pipeline(stages=[model_indexer,transmission_indexer,fuel_type_indexer,\n",
        "                            model_encoder,transmission_encoder,fuel_type_encoder,\n",
        "                            assembler,linear_reg])"
      ],
      "execution_count": 47,
      "outputs": []
    },
    {
      "cell_type": "code",
      "metadata": {
        "id": "5_f_eD1gBmtS"
      },
      "source": [
        "linear_fit = pipeline.fit(trainData)"
      ],
      "execution_count": 48,
      "outputs": []
    },
    {
      "cell_type": "code",
      "metadata": {
        "id": "SS42c0lPCZcS"
      },
      "source": [
        "results = linear_fit.transform(testData)\n",
        "# linear_fit.predict(testData)"
      ],
      "execution_count": 49,
      "outputs": []
    },
    {
      "cell_type": "code",
      "metadata": {
        "id": "-tlBPeu6DhWw",
        "colab": {
          "base_uri": "https://localhost:8080/"
        },
        "outputId": "48e838c9-87b0-4b48-b354-2132d7006775"
      },
      "source": [
        "results.head(5)"
      ],
      "execution_count": 50,
      "outputs": [
        {
          "output_type": "execute_result",
          "data": {
            "text/plain": [
              "[Row(model=' A1', year=2012, price=7714, transmission='Manual', mileage=43133, fuelType='Diesel', tax=0, mpg=74.3, engineSize=1.6, modelIndex=3.0, transmissionIndex=0.0, fuelTypeIndex=0.0, modelVector=SparseVector(25, {3: 1.0}), transmissionVec=SparseVector(2, {0: 1.0}), fuelTypeVector=SparseVector(2, {0: 1.0}), features=SparseVector(34, {3: 1.0, 25: 2012.0, 26: 1.0, 28: 43133.0, 29: 1.0, 32: 74.3, 33: 1.6}), prediction=3562.339287405368),\n",
              " Row(model=' A1', year=2013, price=7700, transmission='Manual', mileage=72120, fuelType='Petrol', tax=125, mpg=52.3, engineSize=1.4, modelIndex=3.0, transmissionIndex=0.0, fuelTypeIndex=1.0, modelVector=SparseVector(25, {3: 1.0}), transmissionVec=SparseVector(2, {0: 1.0}), fuelTypeVector=SparseVector(2, {1: 1.0}), features=SparseVector(34, {3: 1.0, 25: 2013.0, 26: 1.0, 28: 72120.0, 30: 1.0, 31: 125.0, 32: 52.3, 33: 1.4}), prediction=3957.3651719102636),\n",
              " Row(model=' A1', year=2013, price=8399, transmission='Manual', mileage=29899, fuelType='Petrol', tax=125, mpg=53.3, engineSize=1.4, modelIndex=3.0, transmissionIndex=0.0, fuelTypeIndex=1.0, modelVector=SparseVector(25, {3: 1.0}), transmissionVec=SparseVector(2, {0: 1.0}), fuelTypeVector=SparseVector(2, {1: 1.0}), features=SparseVector(34, {3: 1.0, 25: 2013.0, 26: 1.0, 28: 29899.0, 30: 1.0, 31: 125.0, 32: 53.3, 33: 1.4}), prediction=7042.512812403962),\n",
              " Row(model=' A1', year=2013, price=8999, transmission='Manual', mileage=33109, fuelType='Petrol', tax=30, mpg=55.4, engineSize=1.2, modelIndex=3.0, transmissionIndex=0.0, fuelTypeIndex=1.0, modelVector=SparseVector(25, {3: 1.0}), transmissionVec=SparseVector(2, {0: 1.0}), fuelTypeVector=SparseVector(2, {1: 1.0}), features=SparseVector(34, {3: 1.0, 25: 2013.0, 26: 1.0, 28: 33109.0, 30: 1.0, 31: 30.0, 32: 55.4, 33: 1.2}), prediction=8014.1342955096625),\n",
              " Row(model=' A1', year=2014, price=6900, transmission='Manual', mileage=90000, fuelType='Diesel', tax=0, mpg=74.3, engineSize=1.6, modelIndex=3.0, transmissionIndex=0.0, fuelTypeIndex=0.0, modelVector=SparseVector(25, {3: 1.0}), transmissionVec=SparseVector(2, {0: 1.0}), fuelTypeVector=SparseVector(2, {0: 1.0}), features=SparseVector(34, {3: 1.0, 25: 2014.0, 26: 1.0, 28: 90000.0, 29: 1.0, 32: 74.3, 33: 1.6}), prediction=3465.880929246079)]"
            ]
          },
          "metadata": {
            "tags": []
          },
          "execution_count": 50
        }
      ]
    },
    {
      "cell_type": "code",
      "metadata": {
        "id": "oXtvo1pADsgg"
      },
      "source": [
        "from pyspark.ml.evaluation import BinaryClassificationEvaluator\n",
        "my_eval = BinaryClassificationEvaluator(rawPredictionCol='prediction',\n",
        "                                       labelCol='price')"
      ],
      "execution_count": 51,
      "outputs": []
    },
    {
      "cell_type": "code",
      "metadata": {
        "id": "2PR1FV4lExXS",
        "colab": {
          "base_uri": "https://localhost:8080/"
        },
        "outputId": "2c748331-f610-406f-dd0c-f9071c3a47dc"
      },
      "source": [
        "results.select('price','prediction').show()"
      ],
      "execution_count": 52,
      "outputs": [
        {
          "output_type": "stream",
          "text": [
            "+-----+------------------+\n",
            "|price|        prediction|\n",
            "+-----+------------------+\n",
            "| 7714| 3562.339287405368|\n",
            "| 7700|3957.3651719102636|\n",
            "| 8399| 7042.512812403962|\n",
            "| 8999|8014.1342955096625|\n",
            "| 6900| 3465.880929246079|\n",
            "| 7800| 6861.284512355458|\n",
            "| 8298| 7426.733433630317|\n",
            "| 8498| 6856.452345217578|\n",
            "| 8999| 8057.678404130507|\n",
            "|11950|10096.332674350124|\n",
            "| 8554| 5083.577488305513|\n",
            "| 8874|  9229.72036382882|\n",
            "|10198| 7951.677097781561|\n",
            "|10260| 12341.38814709289|\n",
            "|10598|11641.375330333132|\n",
            "|10995|14091.147303665988|\n",
            "|12096|12574.561921628192|\n",
            "|13500|13544.088871954475|\n",
            "|10159|11211.797955218237|\n",
            "|10994| 9769.224192924798|\n",
            "+-----+------------------+\n",
            "only showing top 20 rows\n",
            "\n"
          ],
          "name": "stdout"
        }
      ]
    },
    {
      "cell_type": "code",
      "metadata": {
        "colab": {
          "base_uri": "https://localhost:8080/",
          "height": 609
        },
        "id": "gf2XXhBDBQq2",
        "outputId": "3793403d-ee54-4cb2-d049-c9ec65d02f7d"
      },
      "source": [
        "graph_res = results.select('price', 'prediction').toPandas()\n",
        "x13 = graph_res[\"price\"]\n",
        "x14 = graph_res[\"prediction\"]\n",
        "plt.figure(figsize=(10,10))\n",
        "plt.scatter(np.arange(0,len(x13),1),x13,label='Original Price')\n",
        "plt.scatter(np.arange(0,len(x14),1),x14, label=\"Predicted Price\")\n",
        "plt.legend(loc=\"upper left\")"
      ],
      "execution_count": 63,
      "outputs": [
        {
          "output_type": "execute_result",
          "data": {
            "text/plain": [
              "<matplotlib.legend.Legend at 0x7f9a9871ad90>"
            ]
          },
          "metadata": {
            "tags": []
          },
          "execution_count": 63
        },
        {
          "output_type": "display_data",
          "data": {
            "image/png": "[encoded data removed]",
            "text/plain": [
              "<Figure size 720x720 with 1 Axes>"
            ]
          },
          "metadata": {
            "tags": [],
            "needs_background": "light"
          }
        }
      ]
    },
    {
      "cell_type": "code",
      "metadata": {
        "id": "GcCDA2vQF2cM",
        "colab": {
          "base_uri": "https://localhost:8080/"
        },
        "outputId": "b54ea834-f976-4e97-b359-b53270fc1da2"
      },
      "source": [
        "my_eval.evaluate(results)"
      ],
      "execution_count": 65,
      "outputs": [
        {
          "output_type": "execute_result",
          "data": {
            "text/plain": [
              "1.0"
            ]
          },
          "metadata": {
            "tags": []
          },
          "execution_count": 65
        }
      ]
    },
    {
      "cell_type": "code",
      "metadata": {
        "id": "uHiYHi5DEyxA"
      },
      "source": [
        "from pyspark.ml.evaluation import RegressionEvaluator\n",
        "my_ref_eval = RegressionEvaluator(predictionCol='prediction',labelCol='price')"
      ],
      "execution_count": 66,
      "outputs": []
    },
    {
      "cell_type": "code",
      "metadata": {
        "id": "VzXYQzrWFAVQ",
        "colab": {
          "base_uri": "https://localhost:8080/"
        },
        "outputId": "b5d6bd67-501f-4485-e77e-93df219620a9"
      },
      "source": [
        "my_ref_eval.evaluate(results)"
      ],
      "execution_count": 67,
      "outputs": [
        {
          "output_type": "execute_result",
          "data": {
            "text/plain": [
              "4335.920678693018"
            ]
          },
          "metadata": {
            "tags": []
          },
          "execution_count": 67
        }
      ]
    },
    {
      "cell_type": "code",
      "metadata": {
        "id": "1IWaOA8eFOSa",
        "colab": {
          "base_uri": "https://localhost:8080/"
        },
        "outputId": "d2d819c3-7f5d-4b55-b070-78f8dce29bb6"
      },
      "source": [
        "my_ref_eval.evaluate(results, {my_ref_eval.metricName:\"r2\"})"
      ],
      "execution_count": 68,
      "outputs": [
        {
          "output_type": "execute_result",
          "data": {
            "text/plain": [
              "0.8963288334259789"
            ]
          },
          "metadata": {
            "tags": []
          },
          "execution_count": 68
        }
      ]
    },
    {
      "cell_type": "code",
      "metadata": {
        "id": "iiXUGqj4Gu2j",
        "colab": {
          "base_uri": "https://localhost:8080/"
        },
        "outputId": "a8f99f1b-a645-4f2c-dd98-6125f4473166"
      },
      "source": [
        "my_ref_eval.evaluate(results, {my_ref_eval.metricName:\"rmse\"})"
      ],
      "execution_count": 69,
      "outputs": [
        {
          "output_type": "execute_result",
          "data": {
            "text/plain": [
              "4335.920678693018"
            ]
          },
          "metadata": {
            "tags": []
          },
          "execution_count": 69
        }
      ]
    },
    {
      "cell_type": "code",
      "metadata": {
        "id": "R5__yJMcGx--",
        "colab": {
          "base_uri": "https://localhost:8080/"
        },
        "outputId": "6857090c-8ea3-4b88-dbab-1773976157fd"
      },
      "source": [
        "my_ref_eval.evaluate(results, {my_ref_eval.metricName:\"mse\"})"
      ],
      "execution_count": 70,
      "outputs": [
        {
          "output_type": "execute_result",
          "data": {
            "text/plain": [
              "18800208.131917726"
            ]
          },
          "metadata": {
            "tags": []
          },
          "execution_count": 70
        }
      ]
    },
    {
      "cell_type": "markdown",
      "metadata": {
        "id": "C2ltb1-jPhMM"
      },
      "source": [
        "**RandomForest Regression Algorithm**"
      ]
    },
    {
      "cell_type": "code",
      "metadata": {
        "id": "Y2XXUWyVHP8T"
      },
      "source": [
        "from pyspark.ml.regression import RandomForestRegressor"
      ],
      "execution_count": 71,
      "outputs": []
    },
    {
      "cell_type": "code",
      "metadata": {
        "id": "xQ94wZ52Pnjx"
      },
      "source": [
        "randomforest = RandomForestRegressor(featuresCol='features',labelCol='price')"
      ],
      "execution_count": 72,
      "outputs": []
    },
    {
      "cell_type": "code",
      "metadata": {
        "id": "WnfJo2IhQJwM"
      },
      "source": [
        "from pyspark.ml import Pipeline\n",
        "pipeline1 = Pipeline(stages=[model_indexer,transmission_indexer,fuel_type_indexer,\n",
        "                            model_encoder,transmission_encoder,fuel_type_encoder,\n",
        "                            assembler,randomforest])\n",
        "# df.na.drop()"
      ],
      "execution_count": 73,
      "outputs": []
    },
    {
      "cell_type": "code",
      "metadata": {
        "id": "dnnV_JdwdidL"
      },
      "source": [
        "# from pyspark.ml.tuning import ParamGridBuilder\n",
        "# import numpy as np\n",
        "# paramGrid = ParamGridBuilder() \\\n",
        "#     .addGrid(randomforest.numTrees, [int(x) for x in np.linspace(start = 10, stop = 15, num = 3)]) \\\n",
        "#     .addGrid(randomforest.maxDepth, [int(x) for x in np.linspace(start = 5, stop = 10, num = 3)]) \\\n",
        "#     .build()"
      ],
      "execution_count": null,
      "outputs": []
    },
    {
      "cell_type": "code",
      "metadata": {
        "id": "QOaNcc-Hdxmu"
      },
      "source": [
        "# from pyspark.ml.tuning import CrossValidator\n",
        "# from pyspark.ml.evaluation import RegressionEvaluator\n",
        "# crossval = CrossValidator(estimator=pipeline1,\n",
        "#                           estimatorParamMaps=paramGrid,\n",
        "#                           evaluator=RegressionEvaluator(labelCol='price'),\n",
        "#                           numFolds=3)\n",
        "# # trainData = trainData.na.drop()\n",
        "# cvModel = crossval.fit(df)"
      ],
      "execution_count": null,
      "outputs": []
    },
    {
      "cell_type": "code",
      "metadata": {
        "id": "iAe444j6QL4M"
      },
      "source": [
        "randomforestresult = pipeline1.fit(trainData)\n",
        "randomFResult = randomforestresult.transform(testData)"
      ],
      "execution_count": 74,
      "outputs": []
    },
    {
      "cell_type": "code",
      "metadata": {
        "id": "qu3Bo1cIQTMX",
        "colab": {
          "base_uri": "https://localhost:8080/"
        },
        "outputId": "597bc4f1-94f3-43b8-e6df-a5b4bd8011f2"
      },
      "source": [
        "print(randomFResult.head(5))"
      ],
      "execution_count": 75,
      "outputs": [
        {
          "output_type": "stream",
          "text": [
            "[Row(model=' A1', year=2012, price=7714, transmission='Manual', mileage=43133, fuelType='Diesel', tax=0, mpg=74.3, engineSize=1.6, modelIndex=3.0, transmissionIndex=0.0, fuelTypeIndex=0.0, modelVector=SparseVector(25, {3: 1.0}), transmissionVec=SparseVector(2, {0: 1.0}), fuelTypeVector=SparseVector(2, {0: 1.0}), features=SparseVector(34, {3: 1.0, 25: 2012.0, 26: 1.0, 28: 43133.0, 29: 1.0, 32: 74.3, 33: 1.6}), prediction=10860.571943657447), Row(model=' A1', year=2013, price=7700, transmission='Manual', mileage=72120, fuelType='Petrol', tax=125, mpg=52.3, engineSize=1.4, modelIndex=3.0, transmissionIndex=0.0, fuelTypeIndex=1.0, modelVector=SparseVector(25, {3: 1.0}), transmissionVec=SparseVector(2, {0: 1.0}), fuelTypeVector=SparseVector(2, {1: 1.0}), features=SparseVector(34, {3: 1.0, 25: 2013.0, 26: 1.0, 28: 72120.0, 30: 1.0, 31: 125.0, 32: 52.3, 33: 1.4}), prediction=11096.929138051168), Row(model=' A1', year=2013, price=8399, transmission='Manual', mileage=29899, fuelType='Petrol', tax=125, mpg=53.3, engineSize=1.4, modelIndex=3.0, transmissionIndex=0.0, fuelTypeIndex=1.0, modelVector=SparseVector(25, {3: 1.0}), transmissionVec=SparseVector(2, {0: 1.0}), fuelTypeVector=SparseVector(2, {1: 1.0}), features=SparseVector(34, {3: 1.0, 25: 2013.0, 26: 1.0, 28: 29899.0, 30: 1.0, 31: 125.0, 32: 53.3, 33: 1.4}), prediction=11476.026826086692), Row(model=' A1', year=2013, price=8999, transmission='Manual', mileage=33109, fuelType='Petrol', tax=30, mpg=55.4, engineSize=1.2, modelIndex=3.0, transmissionIndex=0.0, fuelTypeIndex=1.0, modelVector=SparseVector(25, {3: 1.0}), transmissionVec=SparseVector(2, {0: 1.0}), fuelTypeVector=SparseVector(2, {1: 1.0}), features=SparseVector(34, {3: 1.0, 25: 2013.0, 26: 1.0, 28: 33109.0, 30: 1.0, 31: 30.0, 32: 55.4, 33: 1.2}), prediction=11476.026826086692), Row(model=' A1', year=2014, price=6900, transmission='Manual', mileage=90000, fuelType='Diesel', tax=0, mpg=74.3, engineSize=1.6, modelIndex=3.0, transmissionIndex=0.0, fuelTypeIndex=0.0, modelVector=SparseVector(25, {3: 1.0}), transmissionVec=SparseVector(2, {0: 1.0}), fuelTypeVector=SparseVector(2, {0: 1.0}), features=SparseVector(34, {3: 1.0, 25: 2014.0, 26: 1.0, 28: 90000.0, 29: 1.0, 32: 74.3, 33: 1.6}), prediction=10943.940982893648)]\n"
          ],
          "name": "stdout"
        }
      ]
    },
    {
      "cell_type": "code",
      "metadata": {
        "colab": {
          "base_uri": "https://localhost:8080/",
          "height": 623
        },
        "id": "iKwv-YrjD42H",
        "outputId": "c4bb1324-cb84-4e9f-dafb-90dd11d7e3fe"
      },
      "source": [
        "graph_random = randomFResult.select('price', 'prediction').toPandas()\n",
        "x15 = graph_random[\"price\"]\n",
        "x16 = graph_random[\"prediction\"]\n",
        "plt.figure(figsize=(10,10))\n",
        "plt.scatter(np.arange(0,len(x15),1),x15,marker='x',label='Original Price')\n",
        "plt.xlabel(\"Index/Each entry in the dataset\")\n",
        "plt.ylabel(\"Price\")\n",
        "plt.scatter(np.arange(0,len(x16),1),x16,marker='s', label=\"Predicted Price\")\n",
        "plt.legend(loc=\"upper left\")"
      ],
      "execution_count": 87,
      "outputs": [
        {
          "output_type": "execute_result",
          "data": {
            "text/plain": [
              "<matplotlib.legend.Legend at 0x7f9a983ac250>"
            ]
          },
          "metadata": {
            "tags": []
          },
          "execution_count": 87
        },
        {
          "output_type": "display_data",
          "data": {
            "image/png": "[encoded data removed]",
            "text/plain": [
              "<Figure size 720x720 with 1 Axes>"
            ]
          },
          "metadata": {
            "tags": [],
            "needs_background": "light"
          }
        }
      ]
    },
    {
      "cell_type": "code",
      "metadata": {
        "id": "yd08zPHjRw_d"
      },
      "source": [
        "from pyspark.ml.evaluation import RegressionEvaluator\n",
        "my_ref_eval1 = RegressionEvaluator(predictionCol='prediction',labelCol='price')"
      ],
      "execution_count": 82,
      "outputs": []
    },
    {
      "cell_type": "code",
      "metadata": {
        "id": "ha4Npi8ZQlJy",
        "colab": {
          "base_uri": "https://localhost:8080/"
        },
        "outputId": "9b743c07-c362-4500-9fda-25049d6dba53"
      },
      "source": [
        "my_ref_eval1.evaluate(randomFResult)"
      ],
      "execution_count": 83,
      "outputs": [
        {
          "output_type": "execute_result",
          "data": {
            "text/plain": [
              "4640.726555736051"
            ]
          },
          "metadata": {
            "tags": []
          },
          "execution_count": 83
        }
      ]
    },
    {
      "cell_type": "code",
      "metadata": {
        "id": "FdcSt1asQoNZ",
        "colab": {
          "base_uri": "https://localhost:8080/"
        },
        "outputId": "8caafdd1-46b0-42b4-f901-c1e921d68780"
      },
      "source": [
        "my_ref_eval.evaluate(randomFResult, {my_ref_eval.metricName:\"r2\"})"
      ],
      "execution_count": 84,
      "outputs": [
        {
          "output_type": "execute_result",
          "data": {
            "text/plain": [
              "0.8812407935452036"
            ]
          },
          "metadata": {
            "tags": []
          },
          "execution_count": 84
        }
      ]
    },
    {
      "cell_type": "code",
      "metadata": {
        "id": "Au7BK1UASAgR",
        "colab": {
          "base_uri": "https://localhost:8080/"
        },
        "outputId": "03b481e2-59ce-4419-c179-a1f92254707d"
      },
      "source": [
        "my_ref_eval.evaluate(randomFResult, {my_ref_eval.metricName:\"rmse\"})"
      ],
      "execution_count": 85,
      "outputs": [
        {
          "output_type": "execute_result",
          "data": {
            "text/plain": [
              "4640.726555736051"
            ]
          },
          "metadata": {
            "tags": []
          },
          "execution_count": 85
        }
      ]
    },
    {
      "cell_type": "code",
      "metadata": {
        "id": "f9QPFWRuSGIG",
        "colab": {
          "base_uri": "https://localhost:8080/"
        },
        "outputId": "9eca96d9-2a44-48ab-b87b-e7d82318ee66"
      },
      "source": [
        "my_ref_eval.evaluate(randomFResult, {my_ref_eval.metricName:\"mse\"})"
      ],
      "execution_count": 86,
      "outputs": [
        {
          "output_type": "execute_result",
          "data": {
            "text/plain": [
              "21536342.96511379"
            ]
          },
          "metadata": {
            "tags": []
          },
          "execution_count": 86
        }
      ]
    },
    {
      "cell_type": "markdown",
      "metadata": {
        "id": "KbAw69OAYWdw"
      },
      "source": [
        "**Gradient Boosting Regression**"
      ]
    },
    {
      "cell_type": "code",
      "metadata": {
        "id": "2UjxZ3g7SKSC",
        "colab": {
          "base_uri": "https://localhost:8080/"
        },
        "outputId": "e18e22b8-be92-4c19-eea9-292070814790"
      },
      "source": [
        "from pyspark.ml import Pipeline\n",
        "from pyspark.ml.regression import GBTRegressor\n",
        "from pyspark.ml.feature import VectorIndexer\n",
        "from pyspark.ml.evaluation import RegressionEvaluator\n",
        "\n",
        "\n",
        "# Train a GBT model.\n",
        "gbt = GBTRegressor(featuresCol=\"features\",labelCol=\"price\", maxIter=10)\n",
        "\n",
        "# Chain indexer and GBT in a Pipeline\n",
        "pipeline_gbt = Pipeline(stages=[model_indexer,transmission_indexer,fuel_type_indexer,\n",
        "                            model_encoder,transmission_encoder,fuel_type_encoder,\n",
        "                            assembler, gbt])\n",
        "\n",
        "# Train model.  This also runs the indexer.\n",
        "model = pipeline.fit(trainData)\n",
        "\n",
        "# Make predictions.\n",
        "predictions = model.transform(testData)\n",
        "\n",
        "# Select example rows to display.\n",
        "predictions.select(\"prediction\", \"price\", \"features\").show(5)\n"
      ],
      "execution_count": 88,
      "outputs": [
        {
          "output_type": "stream",
          "text": [
            "+------------------+-----+--------------------+\n",
            "|        prediction|price|            features|\n",
            "+------------------+-----+--------------------+\n",
            "| 3562.339287405368| 7714|(34,[3,25,26,28,2...|\n",
            "|3957.3651719102636| 7700|(34,[3,25,26,28,3...|\n",
            "| 7042.512812403962| 8399|(34,[3,25,26,28,3...|\n",
            "|8014.1342955096625| 8999|(34,[3,25,26,28,3...|\n",
            "| 3465.880929246079| 6900|(34,[3,25,26,28,2...|\n",
            "+------------------+-----+--------------------+\n",
            "only showing top 5 rows\n",
            "\n"
          ],
          "name": "stdout"
        }
      ]
    },
    {
      "cell_type": "code",
      "metadata": {
        "colab": {
          "base_uri": "https://localhost:8080/",
          "height": 623
        },
        "id": "Fm7-J6rWGKep",
        "outputId": "baf3370a-3025-4167-9799-0867710d9b20"
      },
      "source": [
        "graph_gbt = predictions.select(\"prediction\", \"price\").toPandas()\n",
        "x17 = graph_gbt[\"price\"]\n",
        "x18 = graph_gbt[\"prediction\"]\n",
        "plt.figure(figsize=(10,10))\n",
        "plt.scatter(np.arange(0,len(x17),1),x17,marker='x',label='Original Price')\n",
        "plt.xlabel(\"Index/Each entry in the dataset\")\n",
        "plt.ylabel(\"Price\")\n",
        "plt.scatter(np.arange(0,len(x18),1),x18,marker='s', label=\"Predicted Price\")\n",
        "plt.legend(loc=\"upper left\")"
      ],
      "execution_count": 90,
      "outputs": [
        {
          "output_type": "execute_result",
          "data": {
            "text/plain": [
              "<matplotlib.legend.Legend at 0x7f9a98244d50>"
            ]
          },
          "metadata": {
            "tags": []
          },
          "execution_count": 90
        },
        {
          "output_type": "display_data",
          "data": {
            "image/png": "[encoded data removed]",
            "text/plain": [
              "<Figure size 720x720 with 1 Axes>"
            ]
          },
          "metadata": {
            "tags": [],
            "needs_background": "light"
          }
        }
      ]
    },
    {
      "cell_type": "code",
      "metadata": {
        "colab": {
          "base_uri": "https://localhost:8080/"
        },
        "id": "k7Bc1yQAXEJi",
        "outputId": "c55f308c-408c-434d-9fd1-df1298d565cb"
      },
      "source": [
        "\n",
        "# Select (prediction, true label) and compute test error\n",
        "evaluator = RegressionEvaluator(\n",
        "    labelCol=\"price\", predictionCol=\"prediction\", metricName=\"rmse\")\n",
        "rmse = evaluator.evaluate(predictions)\n",
        "print(\"Root Mean Squared Error (RMSE) on test data = %g\" % rmse)\n"
      ],
      "execution_count": 91,
      "outputs": [
        {
          "output_type": "stream",
          "text": [
            "Root Mean Squared Error (RMSE) on test data = 4335.92\n"
          ],
          "name": "stdout"
        }
      ]
    },
    {
      "cell_type": "code",
      "metadata": {
        "colab": {
          "base_uri": "https://localhost:8080/"
        },
        "id": "kYbqJyi7Xwky",
        "outputId": "10d10eb1-96f1-432f-e916-4c34a9ad5499"
      },
      "source": [
        "evaluatorR2 = RegressionEvaluator(\n",
        "    labelCol=\"price\", predictionCol=\"prediction\", metricName=\"r2\")\n",
        "r2 = evaluatorR2.evaluate(predictions)\n",
        "print(\"R2 Score on test data= %g\" % r2)\n",
        "gbtModel = model.stages[1]\n",
        "print(gbtModel)  # summary only\n"
      ],
      "execution_count": 92,
      "outputs": [
        {
          "output_type": "stream",
          "text": [
            "R2 Score on test data= 0.896329\n",
            "StringIndexerModel: uid=StringIndexer_c84dc6c2ef16, handleInvalid=error\n"
          ],
          "name": "stdout"
        }
      ]
    },
    {
      "cell_type": "code",
      "metadata": {
        "id": "GIM6LgdnaNpm"
      },
      "source": [
        ""
      ],
      "execution_count": null,
      "outputs": []
    }
  ]
}